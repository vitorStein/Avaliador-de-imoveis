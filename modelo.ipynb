{
 "cells": [
  {
   "cell_type": "markdown",
   "metadata": {},
   "source": [
    "# Criação do Modelo de Regressão"
   ]
  },
  {
   "cell_type": "code",
   "execution_count": 1,
   "metadata": {},
   "outputs": [],
   "source": [
    "import pandas as pd\n",
    "import numpy as np\n",
    "from sklearn.model_selection import train_test_split\n",
    "from sklearn.linear_model import LinearRegression\n",
    "from sklearn import linear_model\n",
    "from sklearn import tree\n",
    "from sklearn import svm\n",
    "from sklearn import neighbors\n",
    "from sklearn.ensemble import AdaBoostRegressor\n",
    "from sklearn.ensemble import RandomForestRegressor\n",
    "from sklearn.experimental import enable_hist_gradient_boosting\n",
    "from sklearn.ensemble import HistGradientBoostingRegressor\n",
    "from sklearn.neural_network import MLPRegressor\n",
    "from sklearn.ensemble import VotingRegressor\n",
    "from sklearn.tree import DecisionTreeRegressor\n",
    "import lightgbm as lgb\n",
    "from skopt import dummy_minimize"
   ]
  },
  {
   "cell_type": "markdown",
   "metadata": {},
   "source": [
    "# Importando datasets\n",
    "\n",
    "Serão testados 2 modelos com duas abordagens diferentes:\n",
    "- Dataset sem valores nulos\n",
    "- Dataset dropando as linhas que possuem valores nulos"
   ]
  },
  {
   "cell_type": "code",
   "execution_count": 2,
   "metadata": {},
   "outputs": [],
   "source": [
    "df = pd.read_csv('casas_ponta_grossa.csv')       # Não existem valores nulos\n",
    "df_na = pd.read_csv('casas_ponta_grossa_NA.csv') # Vários valores nulos que serão dropados"
   ]
  },
  {
   "cell_type": "markdown",
   "metadata": {},
   "source": [
    "## Dataset dropando valores nulos:"
   ]
  },
  {
   "cell_type": "code",
   "execution_count": 3,
   "metadata": {},
   "outputs": [],
   "source": [
    "df_na.dropna(inplace=True)"
   ]
  },
  {
   "cell_type": "code",
   "execution_count": 4,
   "metadata": {},
   "outputs": [],
   "source": [
    "df_na.reset_index(drop=True, inplace=True)"
   ]
  },
  {
   "cell_type": "code",
   "execution_count": 5,
   "metadata": {},
   "outputs": [
    {
     "data": {
      "text/plain": [
       "(1681, 8)"
      ]
     },
     "execution_count": 5,
     "metadata": {},
     "output_type": "execute_result"
    }
   ],
   "source": [
    "df_na.shape"
   ]
  },
  {
   "cell_type": "markdown",
   "metadata": {},
   "source": [
    "## Transformação de variáveis categóricas usando LabelEncoder\n",
    "\n",
    "Variável Bairro, será transformada em valor numério usando Label encoder"
   ]
  },
  {
   "cell_type": "code",
   "execution_count": 6,
   "metadata": {},
   "outputs": [],
   "source": [
    "from sklearn.preprocessing import LabelEncoder"
   ]
  },
  {
   "cell_type": "code",
   "execution_count": 7,
   "metadata": {},
   "outputs": [],
   "source": [
    "label_encoder = LabelEncoder()"
   ]
  },
  {
   "cell_type": "code",
   "execution_count": 8,
   "metadata": {},
   "outputs": [],
   "source": [
    "df['Bairro'] = label_encoder.fit_transform(df['Bairro'])\n",
    "df_na['Bairro'] = label_encoder.fit_transform(df_na['Bairro'])"
   ]
  },
  {
   "cell_type": "code",
   "execution_count": 9,
   "metadata": {},
   "outputs": [],
   "source": [
    "# Normalizando dados do LabelEncoder\n",
    "\n",
    "mean = df['Bairro'].mean()\n",
    "std = df['Bairro'].std()\n",
    "df['Bairro'] = (df['Bairro'] - mean) / std\n",
    "\n",
    "mean = df_na['Bairro'].mean()\n",
    "std = df_na['Bairro'].std()\n",
    "df_na['Bairro'] = (df_na['Bairro'] - mean) / std"
   ]
  },
  {
   "cell_type": "markdown",
   "metadata": {},
   "source": [
    "## Separando variáveis alvos \n",
    "\n",
    "A variável alvo do modelo será o Valor de Venda do imóvel. "
   ]
  },
  {
   "cell_type": "code",
   "execution_count": 10,
   "metadata": {},
   "outputs": [],
   "source": [
    "y = df['Valor Venda']\n",
    "y_na = df_na['Valor Venda']"
   ]
  },
  {
   "cell_type": "markdown",
   "metadata": {},
   "source": [
    "## Removendo colunas"
   ]
  },
  {
   "cell_type": "code",
   "execution_count": 11,
   "metadata": {},
   "outputs": [],
   "source": [
    "df.drop(columns='Valor Venda', inplace=True)\n",
    "df.drop(columns='Referência', inplace=True)\n",
    "df_na.drop(columns='Valor Venda', inplace=True)\n",
    "df_na.drop(columns='Referência', inplace=True)"
   ]
  },
  {
   "cell_type": "markdown",
   "metadata": {},
   "source": [
    "## Separando dados em treinamento e teste"
   ]
  },
  {
   "cell_type": "code",
   "execution_count": 12,
   "metadata": {},
   "outputs": [],
   "source": [
    "X_treinamento, X_teste, y_treinamento, y_teste = train_test_split(df, y, test_size=0.3)\n",
    "X_treinamento_na, X_teste_na, y_treinamento_na, y_teste_na = train_test_split(df_na, y_na, test_size=0.3)"
   ]
  },
  {
   "cell_type": "markdown",
   "metadata": {},
   "source": [
    "# Criação do Modelo"
   ]
  },
  {
   "cell_type": "markdown",
   "metadata": {},
   "source": [
    "## 1 - Modelo Base (Random Forest)"
   ]
  },
  {
   "cell_type": "code",
   "execution_count": 13,
   "metadata": {},
   "outputs": [],
   "source": [
    "rf = RandomForestRegressor(n_estimators=1000, random_state=0, min_samples_leaf=1,  n_jobs=6)\n",
    "rf_na = RandomForestRegressor(n_estimators=1000, random_state=0, min_samples_leaf=1,  n_jobs=6)"
   ]
  },
  {
   "cell_type": "code",
   "execution_count": 14,
   "metadata": {},
   "outputs": [
    {
     "data": {
      "text/plain": [
       "RandomForestRegressor(n_estimators=1000, n_jobs=6, random_state=0)"
      ]
     },
     "execution_count": 14,
     "metadata": {},
     "output_type": "execute_result"
    }
   ],
   "source": [
    "rf.fit(X_treinamento, y_treinamento)\n",
    "rf_na.fit(X_treinamento_na, y_treinamento_na)"
   ]
  },
  {
   "cell_type": "markdown",
   "metadata": {},
   "source": [
    "# Métricas de Avaliação\n",
    "\n",
    "### Métrica Primária: MedAE - Median Absolute Error\n",
    "\n",
    "Preço de casas na Zillow - https://www.zillow.com/research/putting-accuracy-in-context-3255/\n",
    " \n",
    "### Métrica Secundária: (R)MSLE - (Root) Mean Squared Logarithmic Error - Raiz Quadrada do Erro Médio Logarítmico Quadrado\n",
    "\n",
    "Se importa com a diferença \"relativa\" dos valores"
   ]
  },
  {
   "cell_type": "code",
   "execution_count": 15,
   "metadata": {},
   "outputs": [],
   "source": [
    "from sklearn.metrics import median_absolute_error\n",
    "from sklearn.metrics import mean_squared_log_error"
   ]
  },
  {
   "cell_type": "code",
   "execution_count": 16,
   "metadata": {},
   "outputs": [],
   "source": [
    "p = rf.predict(X_teste)\n",
    "p_na =  rf_na.predict(X_teste_na)"
   ]
  },
  {
   "cell_type": "code",
   "execution_count": 17,
   "metadata": {},
   "outputs": [
    {
     "name": "stdout",
     "output_type": "stream",
     "text": [
      "MedAE: 99591.71\n",
      "MedAE drop NA: 85913.0\n",
      "MSLE: 0.22\n",
      "MSLE drop NA: 0.15\n"
     ]
    }
   ],
   "source": [
    "medae = median_absolute_error(y_teste, p)\n",
    "medae_na = median_absolute_error(y_teste_na, p_na)\n",
    "\n",
    "msle = mean_squared_log_error(y_teste, p)\n",
    "msle_na = mean_squared_log_error(y_teste_na, p_na)\n",
    "\n",
    "print('MedAE:',round(medae,2))\n",
    "print('MedAE drop NA:',round(medae_na,2))\n",
    "\n",
    "print('MSLE:',round(msle,2))\n",
    "print('MSLE drop NA:',round(msle_na,2))"
   ]
  },
  {
   "cell_type": "markdown",
   "metadata": {},
   "source": [
    "## 2 - Modelo LightGBM"
   ]
  },
  {
   "cell_type": "code",
   "execution_count": 18,
   "metadata": {},
   "outputs": [],
   "source": [
    "lgbm = lgb.LGBMRegressor(random_state=0)"
   ]
  },
  {
   "cell_type": "markdown",
   "metadata": {},
   "source": [
    "LightGBM não aceita caracteres non-ASCII no nome das colunas, então temos que mudar o nome das colunas dos datasets"
   ]
  },
  {
   "cell_type": "code",
   "execution_count": 19,
   "metadata": {},
   "outputs": [],
   "source": [
    "import re\n",
    "X_teste = X_teste.rename(columns = lambda x:re.sub('[^A-Za-z0-9_]+', '', x))\n",
    "X_teste_na = X_teste_na.rename(columns = lambda x:re.sub('[^A-Za-z0-9_]+', '', x))\n",
    "X_treinamento = X_treinamento.rename(columns = lambda x:re.sub('[^A-Za-z0-9_]+', '', x))\n",
    "X_treinamento_na = X_treinamento_na.rename(columns = lambda x:re.sub('[^A-Za-z0-9_]+', '', x))"
   ]
  },
  {
   "cell_type": "code",
   "execution_count": 20,
   "metadata": {},
   "outputs": [],
   "source": [
    "lgbm = lgbm.fit(X_treinamento, y_treinamento)\n",
    "lgbm_na = lgbm.fit(X_treinamento_na, y_treinamento_na)"
   ]
  },
  {
   "cell_type": "code",
   "execution_count": 21,
   "metadata": {},
   "outputs": [],
   "source": [
    "p = lgbm.predict(X_teste)\n",
    "p_na =  lgbm_na.predict(X_teste_na)"
   ]
  },
  {
   "cell_type": "code",
   "execution_count": 22,
   "metadata": {},
   "outputs": [
    {
     "name": "stdout",
     "output_type": "stream",
     "text": [
      "MedAE: 83958.24\n",
      "MedAE drop NA: 83443.92\n",
      "MSLE: 0.19\n",
      "MSLE drop NA: 0.16\n"
     ]
    }
   ],
   "source": [
    "medae = median_absolute_error(y_teste, p)\n",
    "medae_na = median_absolute_error(y_teste_na, p_na)\n",
    "\n",
    "msle = mean_squared_log_error(y_teste, p)\n",
    "msle_na = mean_squared_log_error(y_teste_na, p_na)\n",
    "\n",
    "print('MedAE:',round(medae,2))\n",
    "print('MedAE drop NA:',round(medae_na,2))\n",
    "\n",
    "print('MSLE:',round(msle,2))\n",
    "print('MSLE drop NA:',round(msle_na,2))"
   ]
  },
  {
   "cell_type": "markdown",
   "metadata": {},
   "source": [
    "## Resultados Preliminares:\n",
    "\n",
    "+ Random Forest:\n",
    "\n",
    " + MedAE: 99591.71    \n",
    " + MedAE drop NA: 85913.0    \n",
    " + MSLE: 0.22  \n",
    " + MSLE drop NA: 0.15   \n",
    "  \n",
    "  \n",
    "+ LightGBM:\n",
    "\n",
    " + MedAE: 83958.24 \n",
    " + MedAE drop NA: 83443.92 \n",
    " + MSLE: 0.19  \n",
    " + MSLE drop NA: 0.16 \n",
    " \n",
    "Podemos perceber que os modelos que foram treinados usando o dataset com os NA dropados obtiveram melhor score.  \n",
    "Na parte seguinte utilizaremos somente o dataset com os NA dropados"
   ]
  },
  {
   "cell_type": "markdown",
   "metadata": {},
   "source": [
    "# Tunando HiperParâmetros"
   ]
  },
  {
   "cell_type": "markdown",
   "metadata": {},
   "source": [
    "## Random Search:"
   ]
  },
  {
   "cell_type": "code",
   "execution_count": 23,
   "metadata": {},
   "outputs": [],
   "source": [
    "def treinar_modelo(parametros):\n",
    "    \n",
    "    learning_rate = parametros[0]\n",
    "    num_leaves = parametros[1]\n",
    "    min_child_samples = parametros[2]\n",
    "    subsample = parametros[3]\n",
    "    colsample_bytree = parametros[4]\n",
    "    \n",
    "    print(parametros)\n",
    "    \n",
    "    mdl = lgb.LGBMRegressor(learning_rate=learning_rate, num_leaves=num_leaves, \n",
    "                            min_child_samples=min_child_samples, subsample=subsample, \n",
    "                            colsample_bytree=colsample_bytree, random_state=0, \n",
    "                            subsample_freq=1, n_estimatos=100)\n",
    "    mdl.fit(X_treinamento_na, y_treinamento_na)\n",
    "    \n",
    "    p = mdl.predict(X_teste_na)\n",
    "    \n",
    "    return median_absolute_error(y_teste_na, p)   \n",
    "    \n",
    "    "
   ]
  },
  {
   "cell_type": "code",
   "execution_count": 24,
   "metadata": {},
   "outputs": [],
   "source": [
    "espaco_de_treinamento = [(1e-9, 1e-1, 'log-uniform'), \n",
    "                         (2, 256),\n",
    "                         (1, 100),\n",
    "                         (0.05, 1.0),\n",
    "                         (0.1, 1.0)]"
   ]
  },
  {
   "cell_type": "code",
   "execution_count": 25,
   "metadata": {},
   "outputs": [
    {
     "name": "stdout",
     "output_type": "stream",
     "text": [
      "Iteration No: 1 started. Evaluating function at random point.\n",
      "[0.09494639669696242, 74, 10, 0.3372159440002478, 0.23208030173540176]\n",
      "Iteration No: 1 ended. Evaluation done at random point.\n",
      "Time taken: 0.1197\n",
      "Function value obtained: 90544.0699\n",
      "Current minimum: 90544.0699\n",
      "Iteration No: 2 started. Evaluating function at random point.\n",
      "[5.479094086332446e-09, 206, 72, 0.3782826906908954, 0.457090726807603]\n",
      "Iteration No: 2 ended. Evaluation done at random point.\n",
      "Time taken: 0.0459\n",
      "Function value obtained: 356224.5744\n",
      "Current minimum: 90544.0699\n",
      "Iteration No: 3 started. Evaluating function at random point.\n",
      "[2.044249367384062e-05, 256, 19, 0.5483207515942279, 0.49910760440160107]\n",
      "Iteration No: 3 ended. Evaluation done at random point.\n",
      "Time taken: 0.1267\n",
      "Function value obtained: 355800.5785\n",
      "Current minimum: 90544.0699\n",
      "Iteration No: 4 started. Evaluating function at random point.\n",
      "[6.864639102632861e-08, 144, 51, 0.9182639233502714, 0.5114843271882895]\n",
      "Iteration No: 4 ended. Evaluation done at random point.\n",
      "Time taken: 0.0778\n",
      "Function value obtained: 356223.2583\n",
      "Current minimum: 90544.0699\n",
      "Iteration No: 5 started. Evaluating function at random point.\n",
      "[2.789899361414508e-06, 224, 97, 0.7894697745197069, 0.7443734643715278]\n",
      "Iteration No: 5 ended. Evaluation done at random point.\n",
      "Time taken: 0.0677\n",
      "Function value obtained: 356201.4103\n",
      "Current minimum: 90544.0699\n",
      "Iteration No: 6 started. Evaluating function at random point.\n",
      "[0.0026427740364791757, 63, 23, 0.5422449214947946, 0.8785182267810852]\n",
      "Iteration No: 6 ended. Evaluation done at random point.\n",
      "Time taken: 0.0977\n",
      "Function value obtained: 294941.2399\n",
      "Current minimum: 90544.0699\n",
      "Iteration No: 7 started. Evaluating function at random point.\n",
      "[0.004297098005754833, 218, 14, 0.30939747550591, 0.15331888117140713]\n",
      "Iteration No: 7 ended. Evaluation done at random point.\n",
      "Time taken: 0.0728\n",
      "Function value obtained: 280105.7254\n",
      "Current minimum: 90544.0699\n",
      "Iteration No: 8 started. Evaluating function at random point.\n",
      "[0.00023132593197812873, 73, 4, 0.6880713925510277, 0.47060909107214777]\n",
      "Iteration No: 8 ended. Evaluation done at random point.\n",
      "Time taken: 0.2478\n",
      "Function value obtained: 350553.7542\n",
      "Current minimum: 90544.0699\n",
      "Iteration No: 9 started. Evaluating function at random point.\n",
      "[3.8054601974919564e-08, 26, 44, 0.7021758812975045, 0.8511631047076357]\n",
      "Iteration No: 9 ended. Evaluation done at random point.\n",
      "Time taken: 0.0838\n",
      "Function value obtained: 356223.7633\n",
      "Current minimum: 90544.0699\n",
      "Iteration No: 10 started. Evaluating function at random point.\n",
      "[1.4005745122180686e-09, 43, 83, 0.98941803446117, 0.7733490889418555]\n",
      "Iteration No: 10 ended. Evaluation done at random point.\n",
      "Time taken: 0.0598\n",
      "Function value obtained: 356224.5587\n",
      "Current minimum: 90544.0699\n",
      "Iteration No: 11 started. Evaluating function at random point.\n",
      "[1.7520719488914147e-07, 217, 8, 0.14806470624875995, 0.5031041735583147]\n",
      "Iteration No: 11 ended. Evaluation done at random point.\n",
      "Time taken: 0.0858\n",
      "Function value obtained: 356220.7307\n",
      "Current minimum: 90544.0699\n",
      "Iteration No: 12 started. Evaluating function at random point.\n",
      "[0.018567952854650637, 233, 24, 0.163515944581681, 0.572319439183401]\n",
      "Iteration No: 12 ended. Evaluation done at random point.\n",
      "Time taken: 0.0549\n",
      "Function value obtained: 135135.9757\n",
      "Current minimum: 90544.0699\n",
      "Iteration No: 13 started. Evaluating function at random point.\n",
      "[4.66642227349692e-09, 168, 9, 0.9149259627034465, 0.36903710098874454]\n",
      "Iteration No: 13 ended. Evaluation done at random point.\n",
      "Time taken: 0.1955\n",
      "Function value obtained: 356224.4953\n",
      "Current minimum: 90544.0699\n",
      "Iteration No: 14 started. Evaluating function at random point.\n",
      "[4.7327434804916324e-05, 89, 26, 0.633241401906253, 0.9608820910034701]\n",
      "Iteration No: 14 ended. Evaluation done at random point.\n",
      "Time taken: 0.1107\n",
      "Function value obtained: 354933.3370\n",
      "Current minimum: 90544.0699\n",
      "Iteration No: 15 started. Evaluating function at random point.\n",
      "[1.2241421076749223e-07, 162, 89, 0.5567760660749166, 0.9549443246793757]\n",
      "Iteration No: 15 ended. Evaluation done at random point.\n",
      "Time taken: 0.0519\n",
      "Function value obtained: 356224.0748\n",
      "Current minimum: 90544.0699\n",
      "Iteration No: 16 started. Evaluating function at random point.\n",
      "[8.799879968505213e-06, 130, 78, 0.09307844214592059, 0.225969507272543]\n",
      "Iteration No: 16 ended. Evaluation done at random point.\n",
      "Time taken: 0.0249\n",
      "Function value obtained: 356224.5876\n",
      "Current minimum: 90544.0699\n",
      "Iteration No: 17 started. Evaluating function at random point.\n",
      "[0.002183879574206963, 221, 22, 0.8889692020284521, 0.5867093706408683]\n",
      "Iteration No: 17 ended. Evaluation done at random point.\n",
      "Time taken: 0.1307\n",
      "Function value obtained: 310721.8805\n",
      "Current minimum: 90544.0699\n",
      "Iteration No: 18 started. Evaluating function at random point.\n",
      "[3.835671903920338e-06, 45, 21, 0.40870512409353993, 0.5845822248519866]\n",
      "Iteration No: 18 ended. Evaluation done at random point.\n",
      "Time taken: 0.0708\n",
      "Function value obtained: 356150.2219\n",
      "Current minimum: 90544.0699\n",
      "Iteration No: 19 started. Evaluating function at random point.\n",
      "[0.00016534499620765082, 59, 83, 0.6559446598566927, 0.2136833965403995]\n",
      "Iteration No: 19 ended. Evaluation done at random point.\n",
      "Time taken: 0.0578\n",
      "Function value obtained: 354346.9151\n",
      "Current minimum: 90544.0699\n",
      "Iteration No: 20 started. Evaluating function at random point.\n",
      "[0.0003323813918000474, 137, 25, 0.3814534248789504, 0.3429351025885235]\n",
      "Iteration No: 20 ended. Evaluation done at random point.\n",
      "Time taken: 0.0623\n",
      "Function value obtained: 349766.6843\n",
      "Current minimum: 90544.0699\n",
      "Iteration No: 21 started. Evaluating function at random point.\n",
      "[0.014692298579366013, 96, 61, 0.9665980447909663, 0.6970973480366033]\n",
      "Iteration No: 21 ended. Evaluation done at random point.\n",
      "Time taken: 0.0798\n",
      "Function value obtained: 144412.2167\n",
      "Current minimum: 90544.0699\n",
      "Iteration No: 22 started. Evaluating function at random point.\n",
      "[9.409482993800857e-05, 238, 93, 0.9520147957717178, 0.5049209201319466]\n",
      "Iteration No: 22 ended. Evaluation done at random point.\n",
      "Time taken: 0.0640\n",
      "Function value obtained: 354920.4034\n",
      "Current minimum: 90544.0699\n",
      "Iteration No: 23 started. Evaluating function at random point.\n",
      "[4.2375702903698395e-05, 84, 87, 0.27517563123087635, 0.9130415685060285]\n",
      "Iteration No: 23 ended. Evaluation done at random point.\n",
      "Time taken: 0.0394\n",
      "Function value obtained: 357541.8474\n",
      "Current minimum: 90544.0699\n",
      "Iteration No: 24 started. Evaluating function at random point.\n",
      "[3.885401409413291e-05, 17, 6, 0.6362876679396877, 0.3939804115948866]\n",
      "Iteration No: 24 ended. Evaluation done at random point.\n",
      "Time taken: 0.0758\n",
      "Function value obtained: 355524.8596\n",
      "Current minimum: 90544.0699\n",
      "Iteration No: 25 started. Evaluating function at random point.\n",
      "[1.6461326086976984e-05, 231, 14, 0.3894062720023748, 0.9176816358278194]\n",
      "Iteration No: 25 ended. Evaluation done at random point.\n",
      "Time taken: 0.1068\n",
      "Function value obtained: 355769.6414\n",
      "Current minimum: 90544.0699\n",
      "Iteration No: 26 started. Evaluating function at random point.\n",
      "[9.702439119689858e-05, 98, 56, 0.9329653720565734, 0.7218072257652316]\n",
      "Iteration No: 26 ended. Evaluation done at random point.\n",
      "Time taken: 0.0670\n",
      "Function value obtained: 354366.8168\n",
      "Current minimum: 90544.0699\n",
      "Iteration No: 27 started. Evaluating function at random point.\n",
      "[0.09518813187534293, 251, 84, 0.18027896214743389, 0.9393359167334473]\n",
      "Iteration No: 27 ended. Evaluation done at random point.\n",
      "Time taken: 0.0365\n",
      "Function value obtained: 159216.1636\n",
      "Current minimum: 90544.0699\n",
      "Iteration No: 28 started. Evaluating function at random point.\n",
      "[0.0003754441069324634, 45, 7, 0.7676898999723432, 0.7784885696151218]\n",
      "Iteration No: 28 ended. Evaluation done at random point.\n",
      "Time taken: 0.1696\n",
      "Function value obtained: 345620.8247\n",
      "Current minimum: 90544.0699\n",
      "Iteration No: 29 started. Evaluating function at random point.\n",
      "[0.024221235058878427, 139, 67, 0.16805741387355647, 0.11789212045581604]\n",
      "Iteration No: 29 ended. Evaluation done at random point.\n",
      "Time taken: 0.0410\n",
      "Function value obtained: 168250.9052\n",
      "Current minimum: 90544.0699\n",
      "Iteration No: 30 started. Evaluating function at random point.\n",
      "[1.6206450050335527e-09, 23, 41, 0.28390051422289364, 0.8740251538145993]\n",
      "Iteration No: 30 ended. Evaluation done at random point.\n",
      "Time taken: 0.0610\n",
      "Function value obtained: 356224.5819\n",
      "Current minimum: 90544.0699\n",
      "Iteration No: 31 started. Evaluating function at random point.\n",
      "[2.044789068496487e-05, 170, 79, 0.8499293477416255, 0.21175598360792006]\n",
      "Iteration No: 31 ended. Evaluation done at random point.\n",
      "Time taken: 0.0654\n",
      "Function value obtained: 355934.5019\n",
      "Current minimum: 90544.0699\n",
      "Iteration No: 32 started. Evaluating function at random point.\n",
      "[1.7118646824970908e-07, 197, 67, 0.44703021223082173, 0.4310589165745866]\n",
      "Iteration No: 32 ended. Evaluation done at random point.\n",
      "Time taken: 0.0489\n",
      "Function value obtained: 356223.4719\n",
      "Current minimum: 90544.0699\n",
      "Iteration No: 33 started. Evaluating function at random point.\n",
      "[0.003191242176281103, 37, 54, 0.7315220211949195, 0.6516532834550335]\n",
      "Iteration No: 33 ended. Evaluation done at random point.\n",
      "Time taken: 0.1107\n",
      "Function value obtained: 289682.7841\n",
      "Current minimum: 90544.0699\n",
      "Iteration No: 34 started. Evaluating function at random point.\n",
      "[2.601828133743158e-06, 56, 33, 0.4564220009627061, 0.4855441646487244]\n",
      "Iteration No: 34 ended. Evaluation done at random point.\n",
      "Time taken: 0.0850\n",
      "Function value obtained: 356181.1244\n",
      "Current minimum: 90544.0699\n",
      "Iteration No: 35 started. Evaluating function at random point.\n",
      "[7.856616270806769e-07, 224, 75, 0.9403308081800065, 0.9247688859458619]\n",
      "Iteration No: 35 ended. Evaluation done at random point.\n",
      "Time taken: 0.0970\n",
      "Function value obtained: 356205.9902\n",
      "Current minimum: 90544.0699\n",
      "Iteration No: 36 started. Evaluating function at random point.\n",
      "[0.001801638690897487, 207, 51, 0.08419946455755176, 0.6888913945205538]\n",
      "Iteration No: 36 ended. Evaluation done at random point.\n",
      "Time taken: 0.0260\n",
      "Function value obtained: 356224.5876\n",
      "Current minimum: 90544.0699\n",
      "Iteration No: 37 started. Evaluating function at random point.\n",
      "[1.0918346463388088e-08, 115, 21, 0.5896954388239452, 0.28296391119489145]\n",
      "Iteration No: 37 ended. Evaluation done at random point.\n",
      "Time taken: 0.1035\n",
      "Function value obtained: 356224.3903\n",
      "Current minimum: 90544.0699\n",
      "Iteration No: 38 started. Evaluating function at random point.\n",
      "[1.043772755082479e-07, 21, 27, 0.941776114719294, 0.43402051085992155]\n",
      "Iteration No: 38 ended. Evaluation done at random point.\n",
      "Time taken: 0.0930\n",
      "Function value obtained: 356222.2822\n",
      "Current minimum: 90544.0699\n",
      "Iteration No: 39 started. Evaluating function at random point.\n",
      "[2.5127234168743673e-09, 112, 61, 0.33374622999937253, 0.28392231507569654]\n",
      "Iteration No: 39 ended. Evaluation done at random point.\n",
      "Time taken: 0.0510\n",
      "Function value obtained: 356224.5851\n",
      "Current minimum: 90544.0699\n",
      "Iteration No: 40 started. Evaluating function at random point.\n",
      "[0.07145837394580029, 197, 25, 0.7713813552085116, 0.6860085030125076]\n",
      "Iteration No: 40 ended. Evaluation done at random point.\n",
      "Time taken: 0.1510\n",
      "Function value obtained: 85327.6743\n",
      "Current minimum: 85327.6743\n",
      "Iteration No: 41 started. Evaluating function at random point.\n",
      "[2.077150748856388e-09, 135, 80, 0.7744444779337113, 0.5097542202891869]\n",
      "Iteration No: 41 ended. Evaluation done at random point.\n",
      "Time taken: 0.0809\n",
      "Function value obtained: 356224.5599\n",
      "Current minimum: 85327.6743\n",
      "Iteration No: 42 started. Evaluating function at random point.\n",
      "[1.797262905003977e-05, 196, 89, 0.18873110868881726, 0.5579098649014042]\n",
      "Iteration No: 42 ended. Evaluation done at random point.\n",
      "Time taken: 0.0480\n",
      "Function value obtained: 356402.4559\n",
      "Current minimum: 85327.6743\n",
      "Iteration No: 43 started. Evaluating function at random point.\n",
      "[5.3113173014688755e-08, 246, 79, 0.489044887212467, 0.21904054701105766]\n",
      "Iteration No: 43 ended. Evaluation done at random point.\n",
      "Time taken: 0.0711\n",
      "Function value obtained: 356224.3410\n",
      "Current minimum: 85327.6743\n",
      "Iteration No: 44 started. Evaluating function at random point.\n",
      "[0.001299968623160196, 40, 42, 0.12054551169026874, 0.18587732372790575]\n",
      "Iteration No: 44 ended. Evaluation done at random point.\n",
      "Time taken: 0.0429\n",
      "Function value obtained: 341195.8372\n",
      "Current minimum: 85327.6743\n",
      "Iteration No: 45 started. Evaluating function at random point.\n",
      "[1.9844679200150206e-08, 50, 51, 0.14054242010799667, 0.2289367055452678]\n",
      "Iteration No: 45 ended. Evaluation done at random point.\n",
      "Time taken: 0.0440\n",
      "Function value obtained: 356224.6698\n",
      "Current minimum: 85327.6743\n",
      "Iteration No: 46 started. Evaluating function at random point.\n",
      "[0.028061020820448004, 249, 17, 0.8476629531276791, 0.6609629015398555]\n",
      "Iteration No: 46 ended. Evaluation done at random point.\n",
      "Time taken: 0.2320\n",
      "Function value obtained: 91493.1111\n",
      "Current minimum: 85327.6743\n",
      "Iteration No: 47 started. Evaluating function at random point.\n",
      "[3.945844545740944e-07, 140, 69, 0.7835691280660845, 0.9170342672531717]\n",
      "Iteration No: 47 ended. Evaluation done at random point.\n",
      "Time taken: 0.0811\n",
      "Function value obtained: 356215.9766\n",
      "Current minimum: 85327.6743\n",
      "Iteration No: 48 started. Evaluating function at random point.\n",
      "[0.028561206786025597, 133, 57, 0.2726439818153495, 0.6551005213014919]\n",
      "Iteration No: 48 ended. Evaluation done at random point.\n",
      "Time taken: 0.0560\n",
      "Function value obtained: 123016.7827\n",
      "Current minimum: 85327.6743\n",
      "Iteration No: 49 started. Evaluating function at random point.\n",
      "[0.03909584151509792, 254, 15, 0.5788205287853987, 0.9240457147896471]\n",
      "Iteration No: 49 ended. Evaluation done at random point.\n",
      "Time taken: 0.1895\n",
      "Function value obtained: 77290.0112\n",
      "Current minimum: 77290.0112\n",
      "Iteration No: 50 started. Evaluating function at random point.\n",
      "[0.00013568432284486877, 188, 86, 0.5116911337420643, 0.643879434627976]\n",
      "Iteration No: 50 ended. Evaluation done at random point.\n",
      "Time taken: 0.0500\n",
      "Function value obtained: 354936.6394\n",
      "Current minimum: 77290.0112\n"
     ]
    }
   ],
   "source": [
    "resultado = dummy_minimize(treinar_modelo, espaco_de_treinamento, random_state=1, verbose=1, n_calls=50)"
   ]
  },
  {
   "cell_type": "code",
   "execution_count": 26,
   "metadata": {},
   "outputs": [
    {
     "data": {
      "text/plain": [
       "[0.03909584151509792, 254, 15, 0.5788205287853987, 0.9240457147896471]"
      ]
     },
     "execution_count": 26,
     "metadata": {},
     "output_type": "execute_result"
    }
   ],
   "source": [
    "resultado.x"
   ]
  },
  {
   "cell_type": "markdown",
   "metadata": {},
   "source": [
    "### Análise do Resultado:\n",
    "Com os parâmetros:\n",
    "\n",
    "learning_rate = 0.03909584151509792  \n",
    "num_leaves = 254  \n",
    "min_child_samples = 15  \n",
    "subsample = 0.5788205287853987  \n",
    "colsample_bytree = 0.9240457147896471\n",
    "\n",
    "Temos que nossa métrica principal(MedAE) foi de 77290.0112\n"
   ]
  },
  {
   "cell_type": "markdown",
   "metadata": {},
   "source": [
    "## Bayesian Optimization:"
   ]
  },
  {
   "cell_type": "code",
   "execution_count": 27,
   "metadata": {},
   "outputs": [],
   "source": [
    "from skopt import gp_minimize"
   ]
  },
  {
   "cell_type": "code",
   "execution_count": 28,
   "metadata": {},
   "outputs": [
    {
     "name": "stdout",
     "output_type": "stream",
     "text": [
      "Iteration No: 1 started. Evaluating function at random point.\n",
      "[0.09494639669696242, 239, 14, 0.9990884895579377, 0.3124800792567785]\n",
      "Iteration No: 1 ended. Evaluation done at random point.\n",
      "Time taken: 0.1476\n",
      "Function value obtained: 87977.9001\n",
      "Current minimum: 87977.9001\n",
      "Iteration No: 2 started. Evaluating function at random point.\n",
      "[1.488146949236865e-06, 101, 67, 0.9387621172657304, 0.8616798250174156]\n",
      "Iteration No: 2 ended. Evaluation done at random point.\n",
      "Time taken: 0.0678\n",
      "Function value obtained: 356193.2319\n",
      "Current minimum: 87977.9001\n",
      "Iteration No: 3 started. Evaluating function at random point.\n",
      "[3.2076585745369137e-07, 135, 45, 0.2680983530433343, 0.5809725180523154]\n",
      "Iteration No: 3 ended. Evaluation done at random point.\n",
      "Time taken: 0.0469\n",
      "Function value obtained: 356223.8836\n",
      "Current minimum: 87977.9001\n",
      "Iteration No: 4 started. Evaluating function at random point.\n",
      "[0.02049727824731352, 118, 44, 0.9421713999524447, 0.8005503127028804]\n",
      "Iteration No: 4 ended. Evaluation done at random point.\n",
      "Time taken: 0.0928\n",
      "Function value obtained: 113421.5964\n",
      "Current minimum: 87977.9001\n",
      "Iteration No: 5 started. Evaluating function at random point.\n",
      "[0.0005342741078030066, 206, 10, 0.5422449214947946, 0.8785182267810853]\n",
      "Iteration No: 5 ended. Evaluation done at random point.\n",
      "Time taken: 0.1745\n",
      "Function value obtained: 341608.5411\n",
      "Current minimum: 87977.9001\n",
      "Iteration No: 6 started. Evaluating function at random point.\n",
      "[0.004297098005754833, 213, 28, 0.1062810412364853, 0.7034752360620511]\n",
      "Iteration No: 6 ended. Evaluation done at random point.\n",
      "Time taken: 0.0369\n",
      "Function value obtained: 291742.5391\n",
      "Current minimum: 87977.9001\n",
      "Iteration No: 7 started. Evaluating function at random point.\n",
      "[5.552954901935064e-05, 173, 42, 0.23767335308554222, 0.3606666764912312]\n",
      "Iteration No: 7 ended. Evaluation done at random point.\n",
      "Time taken: 0.0419\n",
      "Function value obtained: 356136.4928\n",
      "Current minimum: 87977.9001\n",
      "Iteration No: 8 started. Evaluating function at random point.\n",
      "[1.3707589298832816e-08, 201, 42, 0.0824627456265471, 0.661626987829618]\n",
      "Iteration No: 8 ended. Evaluation done at random point.\n",
      "Time taken: 0.0339\n",
      "Function value obtained: 356224.8531\n",
      "Current minimum: 87977.9001\n",
      "Iteration No: 9 started. Evaluating function at random point.\n",
      "[0.00019279059421219578, 78, 45, 0.2610183201586061, 0.16602775456833962]\n",
      "Iteration No: 9 ended. Evaluation done at random point.\n",
      "Time taken: 0.0419\n",
      "Function value obtained: 354271.7470\n",
      "Current minimum: 87977.9001\n",
      "Iteration No: 10 started. Evaluating function at random point.\n",
      "[5.674246670658105e-06, 26, 90, 0.163515944581681, 0.5723194391834011]\n",
      "Iteration No: 10 ended. Evaluation done at random point.\n",
      "Time taken: 0.4717\n",
      "Function value obtained: 356313.5613\n",
      "Current minimum: 87977.9001\n",
      "Iteration No: 11 started. Searching for the next optimal point.\n",
      "[0.1, 220, 99, 0.8840948657786365, 0.4438713265104992]\n",
      "Iteration No: 11 ended. Search finished for the next optimal point.\n",
      "Time taken: 0.4718\n",
      "Function value obtained: 98128.6475\n",
      "Current minimum: 87977.9001\n",
      "Iteration No: 12 started. Searching for the next optimal point.\n",
      "[0.058961368132889914, 8, 31, 1.0, 0.595277639471008]\n",
      "Iteration No: 12 ended. Search finished for the next optimal point.\n",
      "Time taken: 0.4843\n",
      "Function value obtained: 84864.4193\n",
      "Current minimum: 84864.4193\n",
      "Iteration No: 13 started. Searching for the next optimal point.\n",
      "[0.056967363635587374, 243, 14, 1.0, 0.23279794161117645]\n",
      "Iteration No: 13 ended. Search finished for the next optimal point.\n",
      "Time taken: 0.5529\n",
      "Function value obtained: 93005.6454\n",
      "Current minimum: 84864.4193\n",
      "Iteration No: 14 started. Searching for the next optimal point.\n",
      "[0.1, 2, 100, 1.0, 0.1]\n",
      "Iteration No: 14 ended. Search finished for the next optimal point.\n",
      "Time taken: 0.4508\n",
      "Function value obtained: 115305.9958\n",
      "Current minimum: 84864.4193\n",
      "Iteration No: 15 started. Searching for the next optimal point.\n",
      "[0.1, 57, 1, 0.7268542296882123, 1.0]\n",
      "Iteration No: 15 ended. Search finished for the next optimal point.\n",
      "Time taken: 0.5954\n",
      "Function value obtained: 75376.3659\n",
      "Current minimum: 75376.3659\n",
      "Iteration No: 16 started. Searching for the next optimal point.\n",
      "[0.1, 256, 1, 1.0, 1.0]\n",
      "Iteration No: 16 ended. Search finished for the next optimal point.\n",
      "Time taken: 1.3254\n",
      "Function value obtained: 81763.4696\n",
      "Current minimum: 75376.3659\n",
      "Iteration No: 17 started. Searching for the next optimal point.\n",
      "[0.1, 57, 1, 0.5596552059329392, 0.3949478876200797]\n",
      "Iteration No: 17 ended. Search finished for the next optimal point.\n",
      "Time taken: 0.5542\n",
      "Function value obtained: 88229.8425\n",
      "Current minimum: 75376.3659\n",
      "Iteration No: 18 started. Searching for the next optimal point.\n",
      "[0.1, 10, 1, 0.8092217048977793, 0.7083229899004123]\n",
      "Iteration No: 18 ended. Search finished for the next optimal point.\n",
      "Time taken: 0.5027\n",
      "Function value obtained: 96512.2229\n",
      "Current minimum: 75376.3659\n",
      "Iteration No: 19 started. Searching for the next optimal point.\n",
      "[0.05149524250754597, 253, 1, 0.7721734221924847, 1.0]\n",
      "Iteration No: 19 ended. Search finished for the next optimal point.\n",
      "Time taken: 1.3624\n",
      "Function value obtained: 83248.5316\n",
      "Current minimum: 75376.3659\n",
      "Iteration No: 20 started. Searching for the next optimal point.\n",
      "[0.1, 256, 1, 0.05, 1.0]\n",
      "Iteration No: 20 ended. Search finished for the next optimal point.\n",
      "Time taken: 0.5645\n",
      "Function value obtained: 101082.1556\n",
      "Current minimum: 75376.3659\n",
      "Iteration No: 21 started. Searching for the next optimal point.\n",
      "[0.061058863085385155, 122, 1, 1.0, 1.0]\n",
      "Iteration No: 21 ended. Search finished for the next optimal point.\n",
      "Time taken: 0.8442\n",
      "Function value obtained: 85734.1491\n",
      "Current minimum: 75376.3659\n",
      "Iteration No: 22 started. Searching for the next optimal point.\n",
      "[0.06197802444480476, 100, 3, 1.0, 1.0]\n",
      "Iteration No: 22 ended. Search finished for the next optimal point.\n",
      "Time taken: 0.7063\n",
      "Function value obtained: 79687.9773\n",
      "Current minimum: 75376.3659\n",
      "Iteration No: 23 started. Searching for the next optimal point.\n",
      "[0.0677804571934665, 230, 1, 0.7278222891656693, 1.0]\n",
      "Iteration No: 23 ended. Search finished for the next optimal point.\n",
      "Time taken: 1.1997\n",
      "Function value obtained: 83457.7145\n",
      "Current minimum: 75376.3659\n",
      "Iteration No: 24 started. Searching for the next optimal point.\n",
      "[0.1, 256, 1, 1.0, 1.0]\n"
     ]
    },
    {
     "name": "stderr",
     "output_type": "stream",
     "text": [
      "C:\\Users\\Victor\\anaconda3\\lib\\site-packages\\skopt\\optimizer\\optimizer.py:409: UserWarning: The objective has been evaluated at this point before.\n",
      "  warnings.warn(\"The objective has been evaluated \"\n"
     ]
    },
    {
     "name": "stdout",
     "output_type": "stream",
     "text": [
      "Iteration No: 24 ended. Search finished for the next optimal point.\n",
      "Time taken: 1.3640\n",
      "Function value obtained: 81763.4696\n",
      "Current minimum: 75376.3659\n",
      "Iteration No: 25 started. Searching for the next optimal point.\n",
      "[0.06153633059295451, 182, 1, 1.0, 1.0]\n",
      "Iteration No: 25 ended. Search finished for the next optimal point.\n",
      "Time taken: 1.0507\n",
      "Function value obtained: 79632.4002\n",
      "Current minimum: 75376.3659\n",
      "Iteration No: 26 started. Searching for the next optimal point.\n",
      "[0.1, 256, 1, 0.7315188737268884, 1.0]\n",
      "Iteration No: 26 ended. Search finished for the next optimal point.\n",
      "Time taken: 1.3406\n",
      "Function value obtained: 81722.8570\n",
      "Current minimum: 75376.3659\n",
      "Iteration No: 27 started. Searching for the next optimal point.\n",
      "[0.06185759587591597, 218, 1, 1.0, 1.0]\n",
      "Iteration No: 27 ended. Search finished for the next optimal point.\n",
      "Time taken: 1.2367\n",
      "Function value obtained: 77440.9265\n",
      "Current minimum: 75376.3659\n",
      "Iteration No: 28 started. Searching for the next optimal point.\n",
      "[0.1, 256, 1, 0.6916125588992938, 1.0]\n",
      "Iteration No: 28 ended. Search finished for the next optimal point.\n",
      "Time taken: 1.3993\n",
      "Function value obtained: 83608.3993\n",
      "Current minimum: 75376.3659\n",
      "Iteration No: 29 started. Searching for the next optimal point.\n",
      "[0.06058540315394872, 253, 1, 1.0, 1.0]\n",
      "Iteration No: 29 ended. Search finished for the next optimal point.\n",
      "Time taken: 1.3759\n",
      "Function value obtained: 79580.1396\n",
      "Current minimum: 75376.3659\n",
      "Iteration No: 30 started. Searching for the next optimal point.\n",
      "[0.06310350822918322, 39, 1, 1.0, 1.0]\n",
      "Iteration No: 30 ended. Search finished for the next optimal point.\n",
      "Time taken: 0.6125\n",
      "Function value obtained: 75476.8215\n",
      "Current minimum: 75376.3659\n",
      "Iteration No: 31 started. Searching for the next optimal point.\n",
      "[0.06077054884880476, 256, 1, 1.0, 1.0]\n",
      "Iteration No: 31 ended. Search finished for the next optimal point.\n",
      "Time taken: 1.4314\n",
      "Function value obtained: 83540.6856\n",
      "Current minimum: 75376.3659\n",
      "Iteration No: 32 started. Searching for the next optimal point.\n",
      "[0.06552774998908875, 9, 1, 1.0, 1.0]\n",
      "Iteration No: 32 ended. Search finished for the next optimal point.\n",
      "Time taken: 0.5630\n",
      "Function value obtained: 88753.9138\n",
      "Current minimum: 75376.3659\n",
      "Iteration No: 33 started. Searching for the next optimal point.\n",
      "[0.07126062724893133, 178, 1, 0.7752187300191238, 1.0]\n",
      "Iteration No: 33 ended. Search finished for the next optimal point.\n",
      "Time taken: 1.1994\n",
      "Function value obtained: 84956.5507\n",
      "Current minimum: 75376.3659\n",
      "Iteration No: 34 started. Searching for the next optimal point.\n",
      "[0.1, 256, 1, 1.0, 1.0]\n"
     ]
    },
    {
     "name": "stderr",
     "output_type": "stream",
     "text": [
      "C:\\Users\\Victor\\anaconda3\\lib\\site-packages\\skopt\\optimizer\\optimizer.py:409: UserWarning: The objective has been evaluated at this point before.\n",
      "  warnings.warn(\"The objective has been evaluated \"\n"
     ]
    },
    {
     "name": "stdout",
     "output_type": "stream",
     "text": [
      "Iteration No: 34 ended. Search finished for the next optimal point.\n",
      "Time taken: 1.4726\n",
      "Function value obtained: 81763.4696\n",
      "Current minimum: 75376.3659\n",
      "Iteration No: 35 started. Searching for the next optimal point.\n",
      "[0.06506008044798631, 2, 1, 1.0, 1.0]\n",
      "Iteration No: 35 ended. Search finished for the next optimal point.\n",
      "Time taken: 0.5984\n",
      "Function value obtained: 117483.1898\n",
      "Current minimum: 75376.3659\n",
      "Iteration No: 36 started. Searching for the next optimal point.\n",
      "[0.1, 256, 1, 0.6637905628074865, 1.0]\n",
      "Iteration No: 36 ended. Search finished for the next optimal point.\n",
      "Time taken: 1.5268\n",
      "Function value obtained: 87636.3902\n",
      "Current minimum: 75376.3659\n",
      "Iteration No: 37 started. Searching for the next optimal point.\n",
      "[0.1, 256, 1, 1.0, 1.0]\n"
     ]
    },
    {
     "name": "stderr",
     "output_type": "stream",
     "text": [
      "C:\\Users\\Victor\\anaconda3\\lib\\site-packages\\skopt\\optimizer\\optimizer.py:409: UserWarning: The objective has been evaluated at this point before.\n",
      "  warnings.warn(\"The objective has been evaluated \"\n"
     ]
    },
    {
     "name": "stdout",
     "output_type": "stream",
     "text": [
      "Iteration No: 37 ended. Search finished for the next optimal point.\n",
      "Time taken: 1.6517\n",
      "Function value obtained: 81763.4696\n",
      "Current minimum: 75376.3659\n",
      "Iteration No: 38 started. Searching for the next optimal point.\n",
      "[0.0583556619892153, 256, 1, 1.0, 1.0]\n",
      "Iteration No: 38 ended. Search finished for the next optimal point.\n",
      "Time taken: 1.6173\n",
      "Function value obtained: 86939.6912\n",
      "Current minimum: 75376.3659\n",
      "Iteration No: 39 started. Searching for the next optimal point.\n",
      "[0.1, 256, 1, 0.6935594744248024, 1.0]\n",
      "Iteration No: 39 ended. Search finished for the next optimal point.\n",
      "Time taken: 1.6736\n",
      "Function value obtained: 75645.6987\n",
      "Current minimum: 75376.3659\n",
      "Iteration No: 40 started. Searching for the next optimal point.\n",
      "[0.1, 256, 1, 0.6663941225085838, 1.0]\n",
      "Iteration No: 40 ended. Search finished for the next optimal point.\n",
      "Time taken: 1.5649\n",
      "Function value obtained: 84024.2133\n",
      "Current minimum: 75376.3659\n",
      "Iteration No: 41 started. Searching for the next optimal point.\n",
      "[0.1, 256, 1, 0.6918011562107678, 1.0]\n",
      "Iteration No: 41 ended. Search finished for the next optimal point.\n",
      "Time taken: 1.6332\n",
      "Function value obtained: 83608.3993\n",
      "Current minimum: 75376.3659\n",
      "Iteration No: 42 started. Searching for the next optimal point.\n",
      "[0.1, 256, 1, 0.7332620957015819, 1.0]\n",
      "Iteration No: 42 ended. Search finished for the next optimal point.\n",
      "Time taken: 1.7433\n",
      "Function value obtained: 84855.4703\n",
      "Current minimum: 75376.3659\n",
      "Iteration No: 43 started. Searching for the next optimal point.\n",
      "[0.06673818395793009, 256, 1, 0.8851164257300453, 1.0]\n",
      "Iteration No: 43 ended. Search finished for the next optimal point.\n",
      "Time taken: 1.7220\n",
      "Function value obtained: 78766.1094\n",
      "Current minimum: 75376.3659\n",
      "Iteration No: 44 started. Searching for the next optimal point.\n",
      "[0.07031056922676693, 251, 1, 0.7663387518926763, 1.0]\n",
      "Iteration No: 44 ended. Search finished for the next optimal point.\n",
      "Time taken: 1.6794\n",
      "Function value obtained: 89944.0674\n",
      "Current minimum: 75376.3659\n",
      "Iteration No: 45 started. Searching for the next optimal point.\n",
      "[0.1, 256, 1, 1.0, 1.0]\n"
     ]
    },
    {
     "name": "stderr",
     "output_type": "stream",
     "text": [
      "C:\\Users\\Victor\\anaconda3\\lib\\site-packages\\skopt\\optimizer\\optimizer.py:409: UserWarning: The objective has been evaluated at this point before.\n",
      "  warnings.warn(\"The objective has been evaluated \"\n"
     ]
    },
    {
     "name": "stdout",
     "output_type": "stream",
     "text": [
      "Iteration No: 45 ended. Search finished for the next optimal point.\n",
      "Time taken: 1.7543\n",
      "Function value obtained: 81763.4696\n",
      "Current minimum: 75376.3659\n",
      "Iteration No: 46 started. Searching for the next optimal point.\n",
      "[0.1, 256, 1, 1.0, 1.0]\n"
     ]
    },
    {
     "name": "stderr",
     "output_type": "stream",
     "text": [
      "C:\\Users\\Victor\\anaconda3\\lib\\site-packages\\skopt\\optimizer\\optimizer.py:409: UserWarning: The objective has been evaluated at this point before.\n",
      "  warnings.warn(\"The objective has been evaluated \"\n"
     ]
    },
    {
     "name": "stdout",
     "output_type": "stream",
     "text": [
      "Iteration No: 46 ended. Search finished for the next optimal point.\n",
      "Time taken: 1.7539\n",
      "Function value obtained: 81763.4696\n",
      "Current minimum: 75376.3659\n",
      "Iteration No: 47 started. Searching for the next optimal point.\n",
      "[0.06174362024647415, 256, 1, 1.0, 1.0]\n",
      "Iteration No: 47 ended. Search finished for the next optimal point.\n",
      "Time taken: 1.7220\n",
      "Function value obtained: 79498.7532\n",
      "Current minimum: 75376.3659\n",
      "Iteration No: 48 started. Searching for the next optimal point.\n",
      "[0.1, 256, 1, 1.0, 1.0]\n"
     ]
    },
    {
     "name": "stderr",
     "output_type": "stream",
     "text": [
      "C:\\Users\\Victor\\anaconda3\\lib\\site-packages\\skopt\\optimizer\\optimizer.py:409: UserWarning: The objective has been evaluated at this point before.\n",
      "  warnings.warn(\"The objective has been evaluated \"\n"
     ]
    },
    {
     "name": "stdout",
     "output_type": "stream",
     "text": [
      "Iteration No: 48 ended. Search finished for the next optimal point.\n",
      "Time taken: 1.7902\n",
      "Function value obtained: 81763.4696\n",
      "Current minimum: 75376.3659\n",
      "Iteration No: 49 started. Searching for the next optimal point.\n",
      "[0.06508842228016615, 256, 1, 0.9920497868264317, 0.1402589168927174]\n",
      "Iteration No: 49 ended. Search finished for the next optimal point.\n",
      "Time taken: 1.3459\n",
      "Function value obtained: 91787.4542\n",
      "Current minimum: 75376.3659\n",
      "Iteration No: 50 started. Searching for the next optimal point.\n",
      "[0.1, 256, 1, 1.0, 1.0]\n"
     ]
    },
    {
     "name": "stderr",
     "output_type": "stream",
     "text": [
      "C:\\Users\\Victor\\anaconda3\\lib\\site-packages\\skopt\\optimizer\\optimizer.py:409: UserWarning: The objective has been evaluated at this point before.\n",
      "  warnings.warn(\"The objective has been evaluated \"\n"
     ]
    },
    {
     "name": "stdout",
     "output_type": "stream",
     "text": [
      "Iteration No: 50 ended. Search finished for the next optimal point.\n",
      "Time taken: 1.8650\n",
      "Function value obtained: 81763.4696\n",
      "Current minimum: 75376.3659\n"
     ]
    }
   ],
   "source": [
    "resultado_bayesian = gp_minimize(treinar_modelo, espaco_de_treinamento, random_state=1, verbose=1, n_calls=50, n_random_starts=10)"
   ]
  },
  {
   "cell_type": "code",
   "execution_count": 29,
   "metadata": {},
   "outputs": [
    {
     "data": {
      "text/plain": [
       "[0.1, 57, 1, 0.7268542296882123, 1.0]"
      ]
     },
     "execution_count": 29,
     "metadata": {},
     "output_type": "execute_result"
    }
   ],
   "source": [
    "resultado_bayesian.x"
   ]
  },
  {
   "cell_type": "markdown",
   "metadata": {},
   "source": [
    "### Análise do Resultado:\n",
    "Com os parâmetros:\n",
    "\n",
    "learning_rate = 0.1\n",
    "num_leaves = 57 \n",
    "min_child_samples = 1  \n",
    "subsample = 0.7268542296882123 \n",
    "colsample_bytree = 1.0  \n",
    "\n",
    "Temos que nossa métrica principal(MedAE) foi de 75376.3659 "
   ]
  },
  {
   "cell_type": "markdown",
   "metadata": {},
   "source": [
    "## Analisando as duas otimizações"
   ]
  },
  {
   "cell_type": "code",
   "execution_count": 30,
   "metadata": {},
   "outputs": [],
   "source": [
    "from skopt.plots import plot_convergence"
   ]
  },
  {
   "cell_type": "code",
   "execution_count": 31,
   "metadata": {},
   "outputs": [
    {
     "data": {
      "text/plain": [
       "<matplotlib.axes._subplots.AxesSubplot at 0x20c17eae7c8>"
      ]
     },
     "execution_count": 31,
     "metadata": {},
     "output_type": "execute_result"
    },
    {
     "data": {
      "image/png": "[encoded data removed]",
      "text/plain": [
       "<Figure size 432x288 with 1 Axes>"
      ]
     },
     "metadata": {
      "needs_background": "light"
     },
     "output_type": "display_data"
    }
   ],
   "source": [
    "plot_convergence(resultado, resultado_bayesian)"
   ]
  },
  {
   "cell_type": "markdown",
   "metadata": {},
   "source": [
    "## Treinando Modelo Final"
   ]
  },
  {
   "cell_type": "code",
   "execution_count": 33,
   "metadata": {},
   "outputs": [],
   "source": [
    "def treinar_modelo_final(parametros):\n",
    "    \n",
    "    learning_rate = parametros[0]\n",
    "    num_leaves = parametros[1]\n",
    "    min_child_samples = parametros[2]\n",
    "    subsample = parametros[3]\n",
    "    colsample_bytree = parametros[4]\n",
    "    \n",
    "    \n",
    "    mdl = lgb.LGBMRegressor(learning_rate=learning_rate, num_leaves=num_leaves, \n",
    "                            min_child_samples=min_child_samples, subsample=subsample, \n",
    "                            colsample_bytree=colsample_bytree, random_state=0, \n",
    "                            subsample_freq=1, n_estimatos=100)\n",
    "    mdl.fit(X_treinamento_na, y_treinamento_na)\n",
    "    \n",
    "    return mdl"
   ]
  },
  {
   "cell_type": "code",
   "execution_count": 34,
   "metadata": {},
   "outputs": [],
   "source": [
    "modelo_final = treinar_modelo_final(resultado_bayesian.x)"
   ]
  },
  {
   "cell_type": "code",
   "execution_count": 38,
   "metadata": {},
   "outputs": [],
   "source": [
    "p_na_final = modelo_final.predict(X_teste_na)"
   ]
  },
  {
   "cell_type": "code",
   "execution_count": 41,
   "metadata": {},
   "outputs": [
    {
     "name": "stdout",
     "output_type": "stream",
     "text": [
      "MedAE drop NA: 75376.37\n",
      "MSLE drop NA: 0.15\n"
     ]
    }
   ],
   "source": [
    "medae_na = median_absolute_error(y_teste_na, p_na_final)\n",
    "msle_na = mean_squared_log_error(y_teste_na, p_na_final)\n",
    "\n",
    "print('MedAE drop NA:',round(medae_na,2))\n",
    "print('MSLE drop NA:',round(msle_na,2))"
   ]
  },
  {
   "cell_type": "markdown",
   "metadata": {},
   "source": [
    "## Salvando Modelo"
   ]
  },
  {
   "cell_type": "code",
   "execution_count": 42,
   "metadata": {},
   "outputs": [],
   "source": [
    "import joblib as jb"
   ]
  },
  {
   "cell_type": "code",
   "execution_count": 43,
   "metadata": {},
   "outputs": [
    {
     "data": {
      "text/plain": [
       "['lightGBM.pkl.z']"
      ]
     },
     "execution_count": 43,
     "metadata": {},
     "output_type": "execute_result"
    }
   ],
   "source": [
    "jb.dump(modelo_final, 'lightGBM.pkl.z')"
   ]
  },
  {
   "cell_type": "code",
   "execution_count": null,
   "metadata": {},
   "outputs": [],
   "source": []
  }
 ],
 "metadata": {
  "kernelspec": {
   "display_name": "Python 3",
   "language": "python",
   "name": "python3"
  },
  "language_info": {
   "codemirror_mode": {
    "name": "ipython",
    "version": 3
   },
   "file_extension": ".py",
   "mimetype": "text/x-python",
   "name": "python",
   "nbconvert_exporter": "python",
   "pygments_lexer": "ipython3",
   "version": "3.7.6"
  }
 },
 "nbformat": 4,
 "nbformat_minor": 4
}
