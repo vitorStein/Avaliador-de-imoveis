{
 "cells": [
  {
   "cell_type": "markdown",
   "metadata": {},
   "source": [
    "# Limpeza dos dados\n",
    "\n"
   ]
  },
  {
   "cell_type": "code",
   "execution_count": 1,
   "metadata": {},
   "outputs": [],
   "source": [
    "import pandas as pd\n",
    "import numpy as np"
   ]
  },
  {
   "cell_type": "code",
   "execution_count": 2,
   "metadata": {},
   "outputs": [],
   "source": [
    "df = pd.read_json(open(\"informacao_casas.json\", \"r\", encoding=\"utf8\"), lines=True)"
   ]
  },
  {
   "cell_type": "code",
   "execution_count": 3,
   "metadata": {},
   "outputs": [
    {
     "data": {
      "text/html": [
       "<div>\n",
       "<style scoped>\n",
       "    .dataframe tbody tr th:only-of-type {\n",
       "        vertical-align: middle;\n",
       "    }\n",
       "\n",
       "    .dataframe tbody tr th {\n",
       "        vertical-align: top;\n",
       "    }\n",
       "\n",
       "    .dataframe thead th {\n",
       "        text-align: right;\n",
       "    }\n",
       "</style>\n",
       "<table border=\"1\" class=\"dataframe\">\n",
       "  <thead>\n",
       "    <tr style=\"text-align: right;\">\n",
       "      <th></th>\n",
       "      <th>Quartos</th>\n",
       "      <th>Banheiros</th>\n",
       "      <th>Vagas de Garagem</th>\n",
       "      <th>Área Total</th>\n",
       "      <th>Valor Venda</th>\n",
       "      <th>Bairro</th>\n",
       "      <th>Endereço</th>\n",
       "      <th>Referência</th>\n",
       "      <th>Suítes</th>\n",
       "      <th>Área Construída</th>\n",
       "      <th>Aceita Permuta</th>\n",
       "      <th>Área Privativa</th>\n",
       "      <th>Área Útil</th>\n",
       "      <th>Ano de Construção</th>\n",
       "      <th>Condomínio</th>\n",
       "      <th>IPTU</th>\n",
       "    </tr>\n",
       "  </thead>\n",
       "  <tbody>\n",
       "    <tr>\n",
       "      <th>0</th>\n",
       "      <td>3.0</td>\n",
       "      <td>2.0</td>\n",
       "      <td>2.0</td>\n",
       "      <td>164 m2</td>\n",
       "      <td>R$ 430.000</td>\n",
       "      <td>Uvaranas</td>\n",
       "      <td>Rua Casemiro de Abreu, 839</td>\n",
       "      <td>132860-4</td>\n",
       "      <td>NaN</td>\n",
       "      <td>NaN</td>\n",
       "      <td>NaN</td>\n",
       "      <td>NaN</td>\n",
       "      <td>NaN</td>\n",
       "      <td>NaN</td>\n",
       "      <td>NaN</td>\n",
       "      <td>NaN</td>\n",
       "    </tr>\n",
       "    <tr>\n",
       "      <th>1</th>\n",
       "      <td>3.0</td>\n",
       "      <td>2.0</td>\n",
       "      <td>3.0</td>\n",
       "      <td>NaN</td>\n",
       "      <td>R$ 350.000</td>\n",
       "      <td>Jardim Carvalho</td>\n",
       "      <td>Av. Rocha Pombo</td>\n",
       "      <td>148460-4</td>\n",
       "      <td>1.0</td>\n",
       "      <td>NaN</td>\n",
       "      <td>NaN</td>\n",
       "      <td>NaN</td>\n",
       "      <td>NaN</td>\n",
       "      <td>NaN</td>\n",
       "      <td>NaN</td>\n",
       "      <td>NaN</td>\n",
       "    </tr>\n",
       "    <tr>\n",
       "      <th>2</th>\n",
       "      <td>3.0</td>\n",
       "      <td>1.0</td>\n",
       "      <td>1.0</td>\n",
       "      <td>NaN</td>\n",
       "      <td>R$ 300.000</td>\n",
       "      <td>Oficinas</td>\n",
       "      <td>NaN</td>\n",
       "      <td>154166-4</td>\n",
       "      <td>1.0</td>\n",
       "      <td>NaN</td>\n",
       "      <td>NaN</td>\n",
       "      <td>NaN</td>\n",
       "      <td>NaN</td>\n",
       "      <td>NaN</td>\n",
       "      <td>NaN</td>\n",
       "      <td>NaN</td>\n",
       "    </tr>\n",
       "    <tr>\n",
       "      <th>3</th>\n",
       "      <td>2.0</td>\n",
       "      <td>1.0</td>\n",
       "      <td>1.0</td>\n",
       "      <td>NaN</td>\n",
       "      <td>R$ 190.000</td>\n",
       "      <td>NaN</td>\n",
       "      <td>RUA JOSÉ MACHADO DE OLIVEIRA</td>\n",
       "      <td>134986-4</td>\n",
       "      <td>NaN</td>\n",
       "      <td>NaN</td>\n",
       "      <td>NaN</td>\n",
       "      <td>NaN</td>\n",
       "      <td>NaN</td>\n",
       "      <td>NaN</td>\n",
       "      <td>NaN</td>\n",
       "      <td>NaN</td>\n",
       "    </tr>\n",
       "    <tr>\n",
       "      <th>4</th>\n",
       "      <td>2.0</td>\n",
       "      <td>1.0</td>\n",
       "      <td>1.0</td>\n",
       "      <td>70 m2</td>\n",
       "      <td>R$ 190.000</td>\n",
       "      <td>NaN</td>\n",
       "      <td>Rua José Machado de Oliveira</td>\n",
       "      <td>134520-4</td>\n",
       "      <td>NaN</td>\n",
       "      <td>NaN</td>\n",
       "      <td>NaN</td>\n",
       "      <td>NaN</td>\n",
       "      <td>NaN</td>\n",
       "      <td>NaN</td>\n",
       "      <td>NaN</td>\n",
       "      <td>NaN</td>\n",
       "    </tr>\n",
       "  </tbody>\n",
       "</table>\n",
       "</div>"
      ],
      "text/plain": [
       "   Quartos  Banheiros  Vagas de Garagem Área Total  Valor Venda  \\\n",
       "0      3.0        2.0               2.0     164 m2   R$ 430.000   \n",
       "1      3.0        2.0               3.0        NaN   R$ 350.000   \n",
       "2      3.0        1.0               1.0        NaN   R$ 300.000   \n",
       "3      2.0        1.0               1.0        NaN   R$ 190.000   \n",
       "4      2.0        1.0               1.0      70 m2   R$ 190.000   \n",
       "\n",
       "             Bairro                       Endereço Referência  Suítes  \\\n",
       "0          Uvaranas     Rua Casemiro de Abreu, 839   132860-4     NaN   \n",
       "1   Jardim Carvalho                Av. Rocha Pombo   148460-4     1.0   \n",
       "2          Oficinas                            NaN   154166-4     1.0   \n",
       "3               NaN   RUA JOSÉ MACHADO DE OLIVEIRA   134986-4     NaN   \n",
       "4               NaN   Rua José Machado de Oliveira   134520-4     NaN   \n",
       "\n",
       "  Área Construída Aceita Permuta Área Privativa Área Útil  Ano de Construção  \\\n",
       "0             NaN            NaN            NaN       NaN                NaN   \n",
       "1             NaN            NaN            NaN       NaN                NaN   \n",
       "2             NaN            NaN            NaN       NaN                NaN   \n",
       "3             NaN            NaN            NaN       NaN                NaN   \n",
       "4             NaN            NaN            NaN       NaN                NaN   \n",
       "\n",
       "  Condomínio IPTU  \n",
       "0        NaN  NaN  \n",
       "1        NaN  NaN  \n",
       "2        NaN  NaN  \n",
       "3        NaN  NaN  \n",
       "4        NaN  NaN  "
      ]
     },
     "execution_count": 3,
     "metadata": {},
     "output_type": "execute_result"
    }
   ],
   "source": [
    "df.head()"
   ]
  },
  {
   "cell_type": "code",
   "execution_count": 4,
   "metadata": {},
   "outputs": [
    {
     "name": "stdout",
     "output_type": "stream",
     "text": [
      "<class 'pandas.core.frame.DataFrame'>\n",
      "RangeIndex: 3963 entries, 0 to 3962\n",
      "Data columns (total 16 columns):\n",
      " #   Column             Non-Null Count  Dtype  \n",
      "---  ------             --------------  -----  \n",
      " 0   Quartos            3558 non-null   float64\n",
      " 1   Banheiros          3319 non-null   float64\n",
      " 2   Vagas de Garagem   2630 non-null   float64\n",
      " 3   Área Total         2973 non-null   object \n",
      " 4   Valor Venda        3959 non-null   object \n",
      " 5   Bairro             3582 non-null   object \n",
      " 6   Endereço           3843 non-null   object \n",
      " 7   Referência         3963 non-null   object \n",
      " 8   Suítes             1861 non-null   float64\n",
      " 9   Área Construída    47 non-null     object \n",
      " 10  Aceita Permuta     2 non-null      object \n",
      " 11  Área Privativa     2 non-null      object \n",
      " 12  Área Útil          18 non-null     object \n",
      " 13  Ano de Construção  7 non-null      float64\n",
      " 14  Condomínio         175 non-null    object \n",
      " 15  IPTU               2 non-null      object \n",
      "dtypes: float64(5), object(11)\n",
      "memory usage: 495.5+ KB\n"
     ]
    }
   ],
   "source": [
    "df.info()"
   ]
  },
  {
   "cell_type": "markdown",
   "metadata": {},
   "source": [
    "# Limpando algumas colunas que possuem muitos missing values"
   ]
  },
  {
   "cell_type": "code",
   "execution_count": 5,
   "metadata": {},
   "outputs": [],
   "source": [
    "df.drop(columns='Área Construída', inplace=True)\n",
    "df.drop(columns='Aceita Permuta', inplace=True)\n",
    "df.drop(columns='Área Privativa', inplace=True)\n",
    "df.drop(columns='Área Útil', inplace=True)\n",
    "df.drop(columns='Ano de Construção', inplace=True)\n",
    "df.drop(columns='IPTU', inplace=True)\n",
    "df.drop(columns='Condomínio', inplace=True)\n",
    "df.drop(columns='Endereço', inplace=True)"
   ]
  },
  {
   "cell_type": "code",
   "execution_count": 6,
   "metadata": {},
   "outputs": [
    {
     "name": "stdout",
     "output_type": "stream",
     "text": [
      "<class 'pandas.core.frame.DataFrame'>\n",
      "RangeIndex: 3963 entries, 0 to 3962\n",
      "Data columns (total 8 columns):\n",
      " #   Column            Non-Null Count  Dtype  \n",
      "---  ------            --------------  -----  \n",
      " 0   Quartos           3558 non-null   float64\n",
      " 1   Banheiros         3319 non-null   float64\n",
      " 2   Vagas de Garagem  2630 non-null   float64\n",
      " 3   Área Total        2973 non-null   object \n",
      " 4   Valor Venda       3959 non-null   object \n",
      " 5   Bairro            3582 non-null   object \n",
      " 6   Referência        3963 non-null   object \n",
      " 7   Suítes            1861 non-null   float64\n",
      "dtypes: float64(4), object(4)\n",
      "memory usage: 247.8+ KB\n"
     ]
    }
   ],
   "source": [
    "df.info()"
   ]
  },
  {
   "cell_type": "markdown",
   "metadata": {},
   "source": [
    "# Limpezas específicas para cada coluna:"
   ]
  },
  {
   "cell_type": "markdown",
   "metadata": {},
   "source": [
    "### - Área Total:"
   ]
  },
  {
   "cell_type": "code",
   "execution_count": 7,
   "metadata": {},
   "outputs": [],
   "source": [
    "def transforma_area_total(x):\n",
    "    if pd.isnull(x):\n",
    "        return np.NaN\n",
    "    k = x.split()\n",
    "    return int(k[0].replace('.',''))"
   ]
  },
  {
   "cell_type": "code",
   "execution_count": 8,
   "metadata": {},
   "outputs": [],
   "source": [
    "df['Área Total'] = df['Área Total'].apply(transforma_area_total)"
   ]
  },
  {
   "cell_type": "markdown",
   "metadata": {},
   "source": [
    "### - Valor de Venda:"
   ]
  },
  {
   "cell_type": "code",
   "execution_count": 9,
   "metadata": {},
   "outputs": [],
   "source": [
    "def transforma_valor_de_venda(x):\n",
    "    if pd.isnull(x):\n",
    "        return np.NaN\n",
    "    k = x.split()\n",
    "    return float(k[-1].replace('.',''))"
   ]
  },
  {
   "cell_type": "code",
   "execution_count": 10,
   "metadata": {},
   "outputs": [],
   "source": [
    "df['Valor Venda'] = df['Valor Venda'].apply(transforma_valor_de_venda)"
   ]
  },
  {
   "cell_type": "markdown",
   "metadata": {},
   "source": [
    "### - Suítes:"
   ]
  },
  {
   "cell_type": "code",
   "execution_count": 11,
   "metadata": {},
   "outputs": [],
   "source": [
    "df['Suítes'] = df['Suítes'].fillna(0)"
   ]
  },
  {
   "cell_type": "markdown",
   "metadata": {},
   "source": [
    "# Limpeza de dados absurdos"
   ]
  },
  {
   "cell_type": "code",
   "execution_count": 12,
   "metadata": {},
   "outputs": [
    {
     "data": {
      "text/html": [
       "<div>\n",
       "<style scoped>\n",
       "    .dataframe tbody tr th:only-of-type {\n",
       "        vertical-align: middle;\n",
       "    }\n",
       "\n",
       "    .dataframe tbody tr th {\n",
       "        vertical-align: top;\n",
       "    }\n",
       "\n",
       "    .dataframe thead th {\n",
       "        text-align: right;\n",
       "    }\n",
       "</style>\n",
       "<table border=\"1\" class=\"dataframe\">\n",
       "  <thead>\n",
       "    <tr style=\"text-align: right;\">\n",
       "      <th></th>\n",
       "      <th>Quartos</th>\n",
       "      <th>Banheiros</th>\n",
       "      <th>Vagas de Garagem</th>\n",
       "      <th>Área Total</th>\n",
       "      <th>Valor Venda</th>\n",
       "      <th>Suítes</th>\n",
       "    </tr>\n",
       "  </thead>\n",
       "  <tbody>\n",
       "    <tr>\n",
       "      <th>count</th>\n",
       "      <td>3558.000000</td>\n",
       "      <td>3319.000000</td>\n",
       "      <td>2630.000000</td>\n",
       "      <td>2973.000000</td>\n",
       "      <td>3.959000e+03</td>\n",
       "      <td>3963.000000</td>\n",
       "    </tr>\n",
       "    <tr>\n",
       "      <th>mean</th>\n",
       "      <td>2.969365</td>\n",
       "      <td>2.112383</td>\n",
       "      <td>2.175285</td>\n",
       "      <td>646.059536</td>\n",
       "      <td>5.720463e+05</td>\n",
       "      <td>0.710825</td>\n",
       "    </tr>\n",
       "    <tr>\n",
       "      <th>std</th>\n",
       "      <td>0.803363</td>\n",
       "      <td>1.282220</td>\n",
       "      <td>1.215188</td>\n",
       "      <td>15125.417444</td>\n",
       "      <td>6.098740e+05</td>\n",
       "      <td>0.982765</td>\n",
       "    </tr>\n",
       "    <tr>\n",
       "      <th>min</th>\n",
       "      <td>1.000000</td>\n",
       "      <td>1.000000</td>\n",
       "      <td>1.000000</td>\n",
       "      <td>13.000000</td>\n",
       "      <td>6.000000e+02</td>\n",
       "      <td>0.000000</td>\n",
       "    </tr>\n",
       "    <tr>\n",
       "      <th>25%</th>\n",
       "      <td>2.000000</td>\n",
       "      <td>1.000000</td>\n",
       "      <td>1.000000</td>\n",
       "      <td>90.000000</td>\n",
       "      <td>1.900000e+05</td>\n",
       "      <td>0.000000</td>\n",
       "    </tr>\n",
       "    <tr>\n",
       "      <th>50%</th>\n",
       "      <td>3.000000</td>\n",
       "      <td>2.000000</td>\n",
       "      <td>2.000000</td>\n",
       "      <td>164.000000</td>\n",
       "      <td>3.500000e+05</td>\n",
       "      <td>0.000000</td>\n",
       "    </tr>\n",
       "    <tr>\n",
       "      <th>75%</th>\n",
       "      <td>3.000000</td>\n",
       "      <td>3.000000</td>\n",
       "      <td>3.000000</td>\n",
       "      <td>300.000000</td>\n",
       "      <td>7.000000e+05</td>\n",
       "      <td>1.000000</td>\n",
       "    </tr>\n",
       "    <tr>\n",
       "      <th>max</th>\n",
       "      <td>9.000000</td>\n",
       "      <td>8.000000</td>\n",
       "      <td>10.000000</td>\n",
       "      <td>590000.000000</td>\n",
       "      <td>5.200000e+06</td>\n",
       "      <td>7.000000</td>\n",
       "    </tr>\n",
       "  </tbody>\n",
       "</table>\n",
       "</div>"
      ],
      "text/plain": [
       "           Quartos    Banheiros  Vagas de Garagem     Área Total  \\\n",
       "count  3558.000000  3319.000000       2630.000000    2973.000000   \n",
       "mean      2.969365     2.112383          2.175285     646.059536   \n",
       "std       0.803363     1.282220          1.215188   15125.417444   \n",
       "min       1.000000     1.000000          1.000000      13.000000   \n",
       "25%       2.000000     1.000000          1.000000      90.000000   \n",
       "50%       3.000000     2.000000          2.000000     164.000000   \n",
       "75%       3.000000     3.000000          3.000000     300.000000   \n",
       "max       9.000000     8.000000         10.000000  590000.000000   \n",
       "\n",
       "        Valor Venda       Suítes  \n",
       "count  3.959000e+03  3963.000000  \n",
       "mean   5.720463e+05     0.710825  \n",
       "std    6.098740e+05     0.982765  \n",
       "min    6.000000e+02     0.000000  \n",
       "25%    1.900000e+05     0.000000  \n",
       "50%    3.500000e+05     0.000000  \n",
       "75%    7.000000e+05     1.000000  \n",
       "max    5.200000e+06     7.000000  "
      ]
     },
     "execution_count": 12,
     "metadata": {},
     "output_type": "execute_result"
    }
   ],
   "source": [
    "df.describe()"
   ]
  },
  {
   "cell_type": "markdown",
   "metadata": {},
   "source": [
    "Vamos analisar os dados das casas com mais de 5000 m² e averiguar no site se houve algum erro"
   ]
  },
  {
   "cell_type": "code",
   "execution_count": 13,
   "metadata": {},
   "outputs": [
    {
     "data": {
      "text/html": [
       "<div>\n",
       "<style scoped>\n",
       "    .dataframe tbody tr th:only-of-type {\n",
       "        vertical-align: middle;\n",
       "    }\n",
       "\n",
       "    .dataframe tbody tr th {\n",
       "        vertical-align: top;\n",
       "    }\n",
       "\n",
       "    .dataframe thead th {\n",
       "        text-align: right;\n",
       "    }\n",
       "</style>\n",
       "<table border=\"1\" class=\"dataframe\">\n",
       "  <thead>\n",
       "    <tr style=\"text-align: right;\">\n",
       "      <th></th>\n",
       "      <th>Quartos</th>\n",
       "      <th>Banheiros</th>\n",
       "      <th>Vagas de Garagem</th>\n",
       "      <th>Área Total</th>\n",
       "      <th>Valor Venda</th>\n",
       "      <th>Bairro</th>\n",
       "      <th>Referência</th>\n",
       "      <th>Suítes</th>\n",
       "    </tr>\n",
       "  </thead>\n",
       "  <tbody>\n",
       "    <tr>\n",
       "      <th>1936</th>\n",
       "      <td>1.0</td>\n",
       "      <td>1.0</td>\n",
       "      <td>5.0</td>\n",
       "      <td>66766.0</td>\n",
       "      <td>140000.0</td>\n",
       "      <td>Jardim Carvalho</td>\n",
       "      <td>150836-4</td>\n",
       "      <td>0.0</td>\n",
       "    </tr>\n",
       "    <tr>\n",
       "      <th>2370</th>\n",
       "      <td>3.0</td>\n",
       "      <td>2.0</td>\n",
       "      <td>2.0</td>\n",
       "      <td>572850.0</td>\n",
       "      <td>2500000.0</td>\n",
       "      <td>NaN</td>\n",
       "      <td>128647-4</td>\n",
       "      <td>3.0</td>\n",
       "    </tr>\n",
       "    <tr>\n",
       "      <th>2392</th>\n",
       "      <td>NaN</td>\n",
       "      <td>NaN</td>\n",
       "      <td>NaN</td>\n",
       "      <td>10000.0</td>\n",
       "      <td>2000000.0</td>\n",
       "      <td>Centro</td>\n",
       "      <td>20908-4</td>\n",
       "      <td>0.0</td>\n",
       "    </tr>\n",
       "    <tr>\n",
       "      <th>2396</th>\n",
       "      <td>4.0</td>\n",
       "      <td>3.0</td>\n",
       "      <td>4.0</td>\n",
       "      <td>8900.0</td>\n",
       "      <td>2000000.0</td>\n",
       "      <td>NaN</td>\n",
       "      <td>148034-4</td>\n",
       "      <td>2.0</td>\n",
       "    </tr>\n",
       "    <tr>\n",
       "      <th>3093</th>\n",
       "      <td>4.0</td>\n",
       "      <td>3.0</td>\n",
       "      <td>2.0</td>\n",
       "      <td>590000.0</td>\n",
       "      <td>590000.0</td>\n",
       "      <td>Uvaranas</td>\n",
       "      <td>105100-4</td>\n",
       "      <td>1.0</td>\n",
       "    </tr>\n",
       "  </tbody>\n",
       "</table>\n",
       "</div>"
      ],
      "text/plain": [
       "      Quartos  Banheiros  Vagas de Garagem  Área Total  Valor Venda  \\\n",
       "1936      1.0        1.0               5.0     66766.0     140000.0   \n",
       "2370      3.0        2.0               2.0    572850.0    2500000.0   \n",
       "2392      NaN        NaN               NaN     10000.0    2000000.0   \n",
       "2396      4.0        3.0               4.0      8900.0    2000000.0   \n",
       "3093      4.0        3.0               2.0    590000.0     590000.0   \n",
       "\n",
       "                Bairro Referência  Suítes  \n",
       "1936   Jardim Carvalho   150836-4     0.0  \n",
       "2370               NaN   128647-4     3.0  \n",
       "2392            Centro    20908-4     0.0  \n",
       "2396               NaN   148034-4     2.0  \n",
       "3093          Uvaranas   105100-4     1.0  "
      ]
     },
     "execution_count": 13,
     "metadata": {},
     "output_type": "execute_result"
    }
   ],
   "source": [
    "df[df['Área Total']>5000]"
   ]
  },
  {
   "cell_type": "markdown",
   "metadata": {},
   "source": [
    "As casas com index 2392 e 2396 estão corretas  \n",
    "As outras estão com erro de digitação no site (serão exclúidas do dataset)"
   ]
  },
  {
   "cell_type": "code",
   "execution_count": 14,
   "metadata": {},
   "outputs": [],
   "source": [
    "df.drop(index=1936, inplace=True)\n",
    "df.drop(index=2370, inplace=True)\n",
    "df.drop(index=3093, inplace=True)"
   ]
  },
  {
   "cell_type": "code",
   "execution_count": 15,
   "metadata": {},
   "outputs": [
    {
     "data": {
      "text/html": [
       "<div>\n",
       "<style scoped>\n",
       "    .dataframe tbody tr th:only-of-type {\n",
       "        vertical-align: middle;\n",
       "    }\n",
       "\n",
       "    .dataframe tbody tr th {\n",
       "        vertical-align: top;\n",
       "    }\n",
       "\n",
       "    .dataframe thead th {\n",
       "        text-align: right;\n",
       "    }\n",
       "</style>\n",
       "<table border=\"1\" class=\"dataframe\">\n",
       "  <thead>\n",
       "    <tr style=\"text-align: right;\">\n",
       "      <th></th>\n",
       "      <th>Quartos</th>\n",
       "      <th>Banheiros</th>\n",
       "      <th>Vagas de Garagem</th>\n",
       "      <th>Área Total</th>\n",
       "      <th>Valor Venda</th>\n",
       "      <th>Bairro</th>\n",
       "      <th>Referência</th>\n",
       "      <th>Suítes</th>\n",
       "    </tr>\n",
       "  </thead>\n",
       "  <tbody>\n",
       "    <tr>\n",
       "      <th>2314</th>\n",
       "      <td>3.0</td>\n",
       "      <td>5.0</td>\n",
       "      <td>2.0</td>\n",
       "      <td>NaN</td>\n",
       "      <td>4000.0</td>\n",
       "      <td>Centro</td>\n",
       "      <td>154601-4</td>\n",
       "      <td>3.0</td>\n",
       "    </tr>\n",
       "    <tr>\n",
       "      <th>2315</th>\n",
       "      <td>3.0</td>\n",
       "      <td>2.0</td>\n",
       "      <td>2.0</td>\n",
       "      <td>153.0</td>\n",
       "      <td>680.0</td>\n",
       "      <td>Oficinas</td>\n",
       "      <td>106119-4</td>\n",
       "      <td>1.0</td>\n",
       "    </tr>\n",
       "    <tr>\n",
       "      <th>3038</th>\n",
       "      <td>3.0</td>\n",
       "      <td>3.0</td>\n",
       "      <td>2.0</td>\n",
       "      <td>NaN</td>\n",
       "      <td>600.0</td>\n",
       "      <td>Uvaranas</td>\n",
       "      <td>18681-4</td>\n",
       "      <td>1.0</td>\n",
       "    </tr>\n",
       "  </tbody>\n",
       "</table>\n",
       "</div>"
      ],
      "text/plain": [
       "      Quartos  Banheiros  Vagas de Garagem  Área Total  Valor Venda  \\\n",
       "2314      3.0        5.0               2.0         NaN       4000.0   \n",
       "2315      3.0        2.0               2.0       153.0        680.0   \n",
       "3038      3.0        3.0               2.0         NaN        600.0   \n",
       "\n",
       "         Bairro Referência  Suítes  \n",
       "2314     Centro   154601-4     3.0  \n",
       "2315   Oficinas   106119-4     1.0  \n",
       "3038   Uvaranas    18681-4     1.0  "
      ]
     },
     "execution_count": 15,
     "metadata": {},
     "output_type": "execute_result"
    }
   ],
   "source": [
    "df[df['Valor Venda']<30000]"
   ]
  },
  {
   "cell_type": "code",
   "execution_count": 16,
   "metadata": {},
   "outputs": [],
   "source": [
    "df.drop(index=2314, inplace=True)\n",
    "df.drop(index=2315, inplace=True)\n",
    "df.drop(index=3038, inplace=True)"
   ]
  },
  {
   "cell_type": "code",
   "execution_count": 17,
   "metadata": {},
   "outputs": [
    {
     "data": {
      "text/html": [
       "<div>\n",
       "<style scoped>\n",
       "    .dataframe tbody tr th:only-of-type {\n",
       "        vertical-align: middle;\n",
       "    }\n",
       "\n",
       "    .dataframe tbody tr th {\n",
       "        vertical-align: top;\n",
       "    }\n",
       "\n",
       "    .dataframe thead th {\n",
       "        text-align: right;\n",
       "    }\n",
       "</style>\n",
       "<table border=\"1\" class=\"dataframe\">\n",
       "  <thead>\n",
       "    <tr style=\"text-align: right;\">\n",
       "      <th></th>\n",
       "      <th>Quartos</th>\n",
       "      <th>Banheiros</th>\n",
       "      <th>Vagas de Garagem</th>\n",
       "      <th>Área Total</th>\n",
       "      <th>Valor Venda</th>\n",
       "      <th>Bairro</th>\n",
       "      <th>Referência</th>\n",
       "      <th>Suítes</th>\n",
       "    </tr>\n",
       "  </thead>\n",
       "  <tbody>\n",
       "    <tr>\n",
       "      <th>3285</th>\n",
       "      <td>NaN</td>\n",
       "      <td>NaN</td>\n",
       "      <td>NaN</td>\n",
       "      <td>13.0</td>\n",
       "      <td>360000.0</td>\n",
       "      <td>Orfãs</td>\n",
       "      <td>130865-4</td>\n",
       "      <td>0.0</td>\n",
       "    </tr>\n",
       "  </tbody>\n",
       "</table>\n",
       "</div>"
      ],
      "text/plain": [
       "      Quartos  Banheiros  Vagas de Garagem  Área Total  Valor Venda  Bairro  \\\n",
       "3285      NaN        NaN               NaN        13.0     360000.0   Orfãs   \n",
       "\n",
       "     Referência  Suítes  \n",
       "3285   130865-4     0.0  "
      ]
     },
     "execution_count": 17,
     "metadata": {},
     "output_type": "execute_result"
    }
   ],
   "source": [
    "df[df['Área Total']<20]"
   ]
  },
  {
   "cell_type": "code",
   "execution_count": 18,
   "metadata": {},
   "outputs": [],
   "source": [
    "df.drop(index=3285, inplace=True)"
   ]
  },
  {
   "cell_type": "code",
   "execution_count": 19,
   "metadata": {},
   "outputs": [],
   "source": [
    "df.reset_index(drop=True, inplace=True)"
   ]
  },
  {
   "cell_type": "markdown",
   "metadata": {},
   "source": [
    "# Limpando dados faltantes"
   ]
  },
  {
   "cell_type": "code",
   "execution_count": 20,
   "metadata": {},
   "outputs": [
    {
     "data": {
      "text/plain": [
       "Quartos              404\n",
       "Banheiros            643\n",
       "Vagas de Garagem    1332\n",
       "Área Total           988\n",
       "Valor Venda            4\n",
       "Bairro               380\n",
       "Referência             0\n",
       "Suítes                 0\n",
       "dtype: int64"
      ]
     },
     "execution_count": 20,
     "metadata": {},
     "output_type": "execute_result"
    }
   ],
   "source": [
    "df.isnull().sum()"
   ]
  },
  {
   "cell_type": "code",
   "execution_count": 21,
   "metadata": {},
   "outputs": [],
   "source": [
    "df.dropna(subset=['Bairro'],inplace=True)"
   ]
  },
  {
   "cell_type": "code",
   "execution_count": 172,
   "metadata": {},
   "outputs": [],
   "source": [
    "quartos_media = df.groupby('Bairro')['Quartos'].mean().reset_index().round()\n",
    "banheiros_media = df.groupby('Bairro')['Banheiros'].mean().reset_index().round()\n",
    "vagas_garagem_media = df.groupby('Bairro')['Vagas de Garagem'].mean().reset_index().round()\n",
    "area_total_media = df.groupby('Bairro')['Área Total'].mean().reset_index()"
   ]
  },
  {
   "cell_type": "code",
   "execution_count": 173,
   "metadata": {},
   "outputs": [
    {
     "data": {
      "text/html": [
       "<div>\n",
       "<style scoped>\n",
       "    .dataframe tbody tr th:only-of-type {\n",
       "        vertical-align: middle;\n",
       "    }\n",
       "\n",
       "    .dataframe tbody tr th {\n",
       "        vertical-align: top;\n",
       "    }\n",
       "\n",
       "    .dataframe thead th {\n",
       "        text-align: right;\n",
       "    }\n",
       "</style>\n",
       "<table border=\"1\" class=\"dataframe\">\n",
       "  <thead>\n",
       "    <tr style=\"text-align: right;\">\n",
       "      <th></th>\n",
       "      <th>Bairro</th>\n",
       "      <th>Quartos</th>\n",
       "    </tr>\n",
       "  </thead>\n",
       "  <tbody>\n",
       "    <tr>\n",
       "      <th>0</th>\n",
       "      <td>Boa Vista</td>\n",
       "      <td>3.0</td>\n",
       "    </tr>\n",
       "    <tr>\n",
       "      <th>1</th>\n",
       "      <td>Cará-cará</td>\n",
       "      <td>2.0</td>\n",
       "    </tr>\n",
       "    <tr>\n",
       "      <th>2</th>\n",
       "      <td>Centro</td>\n",
       "      <td>3.0</td>\n",
       "    </tr>\n",
       "    <tr>\n",
       "      <th>3</th>\n",
       "      <td>Chapada</td>\n",
       "      <td>3.0</td>\n",
       "    </tr>\n",
       "    <tr>\n",
       "      <th>4</th>\n",
       "      <td>Colônia Dona Luiza</td>\n",
       "      <td>3.0</td>\n",
       "    </tr>\n",
       "  </tbody>\n",
       "</table>\n",
       "</div>"
      ],
      "text/plain": [
       "                Bairro  Quartos\n",
       "0            Boa Vista      3.0\n",
       "1            Cará-cará      2.0\n",
       "2               Centro      3.0\n",
       "3              Chapada      3.0\n",
       "4   Colônia Dona Luiza      3.0"
      ]
     },
     "execution_count": 173,
     "metadata": {},
     "output_type": "execute_result"
    }
   ],
   "source": [
    "quartos_media.head()"
   ]
  },
  {
   "cell_type": "code",
   "execution_count": 174,
   "metadata": {},
   "outputs": [],
   "source": [
    "for indice, linha in df.iterrows():\n",
    "    if pd.isnull(df.at[indice, 'Quartos']):\n",
    "        df.at[indice, 'Quartos'] = quartos_media.loc[(quartos_media['Bairro']==linha['Bairro'])]['Quartos']\n",
    "        \n",
    "    if pd.isnull(df.at[indice, 'Banheiros']):    \n",
    "        df.at[indice, 'Banheiros'] = banheiros_media.loc[(banheiros_media['Bairro']==linha['Bairro'])]['Banheiros']\n",
    "    \n",
    "    if pd.isnull(df.at[indice, 'Vagas de Garagem']): \n",
    "        df.at[indice, 'Vagas de Garagem'] = vagas_garagem_media.loc[(vagas_garagem_media['Bairro']==linha['Bairro'])]['Vagas de Garagem']\n",
    "    \n",
    "    if pd.isnull(df.at[indice, 'Área Total']): \n",
    "        df.at[indice, 'Área Total'] = area_total_media.loc[(area_total_media['Bairro']==linha['Bairro'])]['Área Total']"
   ]
  },
  {
   "cell_type": "code",
   "execution_count": 175,
   "metadata": {},
   "outputs": [
    {
     "data": {
      "text/plain": [
       "Quartos             1\n",
       "Banheiros           1\n",
       "Vagas de Garagem    1\n",
       "Área Total          1\n",
       "Valor Venda         3\n",
       "Bairro              0\n",
       "Referência          0\n",
       "Suítes              0\n",
       "dtype: int64"
      ]
     },
     "execution_count": 175,
     "metadata": {},
     "output_type": "execute_result"
    }
   ],
   "source": [
    "df.isnull().sum()"
   ]
  },
  {
   "cell_type": "code",
   "execution_count": 176,
   "metadata": {},
   "outputs": [],
   "source": [
    "df.dropna(subset=['Valor Venda'],inplace=True)\n",
    "df.dropna(subset=['Quartos'],inplace=True)"
   ]
  },
  {
   "cell_type": "code",
   "execution_count": 177,
   "metadata": {},
   "outputs": [],
   "source": [
    "df.reset_index(drop=True, inplace=True)"
   ]
  },
  {
   "cell_type": "code",
   "execution_count": 178,
   "metadata": {},
   "outputs": [
    {
     "data": {
      "text/plain": [
       "Quartos             0\n",
       "Banheiros           0\n",
       "Vagas de Garagem    0\n",
       "Área Total          0\n",
       "Valor Venda         0\n",
       "Bairro              0\n",
       "Referência          0\n",
       "Suítes              0\n",
       "dtype: int64"
      ]
     },
     "execution_count": 178,
     "metadata": {},
     "output_type": "execute_result"
    }
   ],
   "source": [
    "df.isnull().sum()"
   ]
  },
  {
   "cell_type": "markdown",
   "metadata": {},
   "source": [
    "# Alterando tipos"
   ]
  },
  {
   "cell_type": "code",
   "execution_count": 179,
   "metadata": {},
   "outputs": [],
   "source": [
    "df['Quartos'] = df['Quartos'].astype(int)\n",
    "df['Banheiros'] = df['Banheiros'].astype(int)\n",
    "df['Vagas de Garagem'] = df['Vagas de Garagem'].astype(int)\n",
    "df['Suítes'] = df['Suítes'].astype(int)\n",
    "\n",
    "df['Área Total'] = df['Área Total'].round()\n",
    "df['Área Total'] = df['Área Total'].astype(int)\n",
    "\n",
    "df['Valor Venda'] = df['Valor Venda'].round()\n",
    "df['Valor Venda'] = df['Valor Venda'].astype(int)"
   ]
  },
  {
   "cell_type": "code",
   "execution_count": 22,
   "metadata": {},
   "outputs": [
    {
     "name": "stdout",
     "output_type": "stream",
     "text": [
      "<class 'pandas.core.frame.DataFrame'>\n",
      "Int64Index: 3576 entries, 0 to 3955\n",
      "Data columns (total 8 columns):\n",
      " #   Column            Non-Null Count  Dtype  \n",
      "---  ------            --------------  -----  \n",
      " 0   Quartos           3214 non-null   float64\n",
      " 1   Banheiros         2994 non-null   float64\n",
      " 2   Vagas de Garagem  2329 non-null   float64\n",
      " 3   Área Total        2756 non-null   float64\n",
      " 4   Valor Venda       3573 non-null   float64\n",
      " 5   Bairro            3576 non-null   object \n",
      " 6   Referência        3576 non-null   object \n",
      " 7   Suítes            3576 non-null   float64\n",
      "dtypes: float64(6), object(2)\n",
      "memory usage: 251.4+ KB\n"
     ]
    }
   ],
   "source": [
    "df.info()"
   ]
  },
  {
   "cell_type": "markdown",
   "metadata": {},
   "source": [
    "# Arrumando strings"
   ]
  },
  {
   "cell_type": "code",
   "execution_count": 181,
   "metadata": {},
   "outputs": [
    {
     "data": {
      "text/plain": [
       "' Jardim Carvalho'"
      ]
     },
     "execution_count": 181,
     "metadata": {},
     "output_type": "execute_result"
    }
   ],
   "source": [
    "df['Bairro'][123]"
   ]
  },
  {
   "cell_type": "code",
   "execution_count": 207,
   "metadata": {},
   "outputs": [],
   "source": [
    "def tira_espaco(x):\n",
    "    return x.lstrip()"
   ]
  },
  {
   "cell_type": "code",
   "execution_count": null,
   "metadata": {},
   "outputs": [],
   "source": [
    "df['Bairro'] = df['Bairro'].apply(tira_espaco)\n",
    "df['Referência'] = df['Referência'].apply(tira_espaco)"
   ]
  },
  {
   "cell_type": "markdown",
   "metadata": {},
   "source": [
    "# Organizando as Colunas"
   ]
  },
  {
   "cell_type": "code",
   "execution_count": 23,
   "metadata": {},
   "outputs": [],
   "source": [
    "columnsTitles = ['Referência', 'Quartos', 'Banheiros', 'Suítes', 'Vagas de Garagem', 'Bairro','Área Total', 'Valor Venda']"
   ]
  },
  {
   "cell_type": "code",
   "execution_count": 24,
   "metadata": {},
   "outputs": [],
   "source": [
    "df = df.reindex(columns=columnsTitles)"
   ]
  },
  {
   "cell_type": "code",
   "execution_count": 25,
   "metadata": {},
   "outputs": [
    {
     "data": {
      "text/html": [
       "<div>\n",
       "<style scoped>\n",
       "    .dataframe tbody tr th:only-of-type {\n",
       "        vertical-align: middle;\n",
       "    }\n",
       "\n",
       "    .dataframe tbody tr th {\n",
       "        vertical-align: top;\n",
       "    }\n",
       "\n",
       "    .dataframe thead th {\n",
       "        text-align: right;\n",
       "    }\n",
       "</style>\n",
       "<table border=\"1\" class=\"dataframe\">\n",
       "  <thead>\n",
       "    <tr style=\"text-align: right;\">\n",
       "      <th></th>\n",
       "      <th>Referência</th>\n",
       "      <th>Quartos</th>\n",
       "      <th>Banheiros</th>\n",
       "      <th>Suítes</th>\n",
       "      <th>Vagas de Garagem</th>\n",
       "      <th>Bairro</th>\n",
       "      <th>Área Total</th>\n",
       "      <th>Valor Venda</th>\n",
       "    </tr>\n",
       "  </thead>\n",
       "  <tbody>\n",
       "    <tr>\n",
       "      <th>0</th>\n",
       "      <td>132860-4</td>\n",
       "      <td>3.0</td>\n",
       "      <td>2.0</td>\n",
       "      <td>0.0</td>\n",
       "      <td>2.0</td>\n",
       "      <td>Uvaranas</td>\n",
       "      <td>164.0</td>\n",
       "      <td>430000.0</td>\n",
       "    </tr>\n",
       "    <tr>\n",
       "      <th>1</th>\n",
       "      <td>148460-4</td>\n",
       "      <td>3.0</td>\n",
       "      <td>2.0</td>\n",
       "      <td>1.0</td>\n",
       "      <td>3.0</td>\n",
       "      <td>Jardim Carvalho</td>\n",
       "      <td>NaN</td>\n",
       "      <td>350000.0</td>\n",
       "    </tr>\n",
       "    <tr>\n",
       "      <th>2</th>\n",
       "      <td>154166-4</td>\n",
       "      <td>3.0</td>\n",
       "      <td>1.0</td>\n",
       "      <td>1.0</td>\n",
       "      <td>1.0</td>\n",
       "      <td>Oficinas</td>\n",
       "      <td>NaN</td>\n",
       "      <td>300000.0</td>\n",
       "    </tr>\n",
       "    <tr>\n",
       "      <th>6</th>\n",
       "      <td>146507-4</td>\n",
       "      <td>3.0</td>\n",
       "      <td>2.0</td>\n",
       "      <td>1.0</td>\n",
       "      <td>2.0</td>\n",
       "      <td>Uvaranas</td>\n",
       "      <td>80.0</td>\n",
       "      <td>169900.0</td>\n",
       "    </tr>\n",
       "    <tr>\n",
       "      <th>7</th>\n",
       "      <td>154050-4</td>\n",
       "      <td>2.0</td>\n",
       "      <td>1.0</td>\n",
       "      <td>0.0</td>\n",
       "      <td>1.0</td>\n",
       "      <td>Uvaranas</td>\n",
       "      <td>NaN</td>\n",
       "      <td>165000.0</td>\n",
       "    </tr>\n",
       "  </tbody>\n",
       "</table>\n",
       "</div>"
      ],
      "text/plain": [
       "  Referência  Quartos  Banheiros  Suítes  Vagas de Garagem            Bairro  \\\n",
       "0   132860-4      3.0        2.0     0.0               2.0          Uvaranas   \n",
       "1   148460-4      3.0        2.0     1.0               3.0   Jardim Carvalho   \n",
       "2   154166-4      3.0        1.0     1.0               1.0          Oficinas   \n",
       "6   146507-4      3.0        2.0     1.0               2.0          Uvaranas   \n",
       "7   154050-4      2.0        1.0     0.0               1.0          Uvaranas   \n",
       "\n",
       "   Área Total  Valor Venda  \n",
       "0       164.0     430000.0  \n",
       "1         NaN     350000.0  \n",
       "2         NaN     300000.0  \n",
       "6        80.0     169900.0  \n",
       "7         NaN     165000.0  "
      ]
     },
     "execution_count": 25,
     "metadata": {},
     "output_type": "execute_result"
    }
   ],
   "source": [
    "df.head()"
   ]
  },
  {
   "cell_type": "markdown",
   "metadata": {},
   "source": [
    "# Passando dataset para .csv"
   ]
  },
  {
   "cell_type": "code",
   "execution_count": 26,
   "metadata": {},
   "outputs": [],
   "source": [
    "df.to_csv('casas_ponta_grossa.csv', index=False)"
   ]
  },
  {
   "cell_type": "code",
   "execution_count": 27,
   "metadata": {},
   "outputs": [],
   "source": [
    "gg = pd.read_csv('casas_ponta_grossa.csv')"
   ]
  },
  {
   "cell_type": "code",
   "execution_count": 29,
   "metadata": {},
   "outputs": [
    {
     "name": "stdout",
     "output_type": "stream",
     "text": [
      "<class 'pandas.core.frame.DataFrame'>\n",
      "RangeIndex: 3576 entries, 0 to 3575\n",
      "Data columns (total 8 columns):\n",
      " #   Column            Non-Null Count  Dtype  \n",
      "---  ------            --------------  -----  \n",
      " 0   Referência        3576 non-null   object \n",
      " 1   Quartos           3214 non-null   float64\n",
      " 2   Banheiros         2994 non-null   float64\n",
      " 3   Suítes            3576 non-null   float64\n",
      " 4   Vagas de Garagem  2329 non-null   float64\n",
      " 5   Bairro            3576 non-null   object \n",
      " 6   Área Total        2756 non-null   float64\n",
      " 7   Valor Venda       3573 non-null   float64\n",
      "dtypes: float64(6), object(2)\n",
      "memory usage: 223.6+ KB\n"
     ]
    }
   ],
   "source": [
    "gg.info()"
   ]
  },
  {
   "cell_type": "code",
   "execution_count": null,
   "metadata": {},
   "outputs": [],
   "source": []
  }
 ],
 "metadata": {
  "kernelspec": {
   "display_name": "Python 3",
   "language": "python",
   "name": "python3"
  },
  "language_info": {
   "codemirror_mode": {
    "name": "ipython",
    "version": 3
   },
   "file_extension": ".py",
   "mimetype": "text/x-python",
   "name": "python",
   "nbconvert_exporter": "python",
   "pygments_lexer": "ipython3",
   "version": "3.7.6"
  }
 },
 "nbformat": 4,
 "nbformat_minor": 4
}
