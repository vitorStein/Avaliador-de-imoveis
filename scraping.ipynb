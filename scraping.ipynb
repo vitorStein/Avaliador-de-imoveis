{
 "cells": [
  {
   "cell_type": "markdown",
   "metadata": {},
   "source": [
    "# Scraping de dados\n",
    "\n",
    "Todos dados expostos aqui não são de minha propriedade!!\n",
    "Eles foram minerados do site [Procure Imóvel](https://procureimovel.com.br/)"
   ]
  },
  {
   "cell_type": "code",
   "execution_count": 4,
   "metadata": {},
   "outputs": [],
   "source": [
    "import requests as rq\n",
    "import bs4 as bs4\n",
    "import time\n",
    "import json\n",
    "import pandas as pd\n",
    "import numpy as np"
   ]
  },
  {
   "cell_type": "markdown",
   "metadata": {},
   "source": [
    "# Parte 1 \n",
    "\n",
    "Na Parte 1 as páginas que possuem casas para vender serão coletadas e armazenadas na pasta dados brutos.  \n",
    "Como resultado teremos vários arquivos html com todas as casas que estão disponíveis no site."
   ]
  },
  {
   "cell_type": "code",
   "execution_count": 2,
   "metadata": {},
   "outputs": [],
   "source": [
    "url_casa = \"https://procureimovel.com.br/venda/ponta-grossa-pr/casa?page={}\""
   ]
  },
  {
   "cell_type": "code",
   "execution_count": 74,
   "metadata": {},
   "outputs": [],
   "source": [
    "# Coletando os dados da página principal de casas \n",
    "# Primeira coleta\n",
    "\n",
    "for x in range(1,135):\n",
    "    urll = url_casa.format(x)\n",
    "    #print(urll)\n",
    "    response = rq.get(urll)\n",
    "\n",
    "    with open('./dados_brutos/casa_{}.html'.format(x), \"w+\", encoding=\"utf-8\") as output:\n",
    "        output.write(response.text)\n",
    "    time.sleep(2)"
   ]
  },
  {
   "cell_type": "markdown",
   "metadata": {},
   "source": [
    "# Parte 2\n",
    "\n",
    "Na Parte 2 cada página html será visitada e as informações de título e link serão recolhidas.  \n",
    "Como saída teremos um dataframe com todas as casas disponíveis para venda e link das mesmas. "
   ]
  },
  {
   "cell_type": "code",
   "execution_count": 12,
   "metadata": {},
   "outputs": [],
   "source": [
    "# Segunda coleta\n",
    "\n",
    "for x in range(1,135):\n",
    "    with open('./dados_brutos/casa_{}.html'.format(x), 'r+', encoding=\"utf-8\") as inp:\n",
    "            page_html = inp.read()\n",
    "            parsed = bs4.BeautifulSoup(page_html)\n",
    "            tags = parsed.findAll(\"div\", \"listing-item\")\n",
    "    for e in tags:\n",
    "        tags_ = e.find_all('a')\n",
    "        for f in tags_:\n",
    "            link = f['href']\n",
    "            if f.has_attr('title'):\n",
    "                title = f['title']\n",
    "                with open('link_and_title.json', 'a+') as output:\n",
    "                    data = {'link': link, 'title': title}\n",
    "                    output.write('{}\\n'.format(json.dumps(data)))"
   ]
  },
  {
   "cell_type": "code",
   "execution_count": 40,
   "metadata": {},
   "outputs": [],
   "source": [
    "df = pd.read_json('link_and_title.json', lines=True)"
   ]
  },
  {
   "cell_type": "code",
   "execution_count": 41,
   "metadata": {},
   "outputs": [
    {
     "data": {
      "text/html": [
       "<div>\n",
       "<style scoped>\n",
       "    .dataframe tbody tr th:only-of-type {\n",
       "        vertical-align: middle;\n",
       "    }\n",
       "\n",
       "    .dataframe tbody tr th {\n",
       "        vertical-align: top;\n",
       "    }\n",
       "\n",
       "    .dataframe thead th {\n",
       "        text-align: right;\n",
       "    }\n",
       "</style>\n",
       "<table border=\"1\" class=\"dataframe\">\n",
       "  <thead>\n",
       "    <tr style=\"text-align: right;\">\n",
       "      <th></th>\n",
       "      <th>link</th>\n",
       "      <th>title</th>\n",
       "    </tr>\n",
       "  </thead>\n",
       "  <tbody>\n",
       "    <tr>\n",
       "      <th>0</th>\n",
       "      <td>https://procureimovel.com.br/imovel/casa-venda...</td>\n",
       "      <td>Casa de 164m² à Venda, 3 quartos - Ref. 132860-4</td>\n",
       "    </tr>\n",
       "    <tr>\n",
       "      <th>1</th>\n",
       "      <td>https://procureimovel.com.br/imovel/casa-venda...</td>\n",
       "      <td>Casa com 3 quartos à Venda - Ref. 148460-4</td>\n",
       "    </tr>\n",
       "    <tr>\n",
       "      <th>2</th>\n",
       "      <td>https://procureimovel.com.br/imovel/casa-venda...</td>\n",
       "      <td>Casa com 3 quartos à Venda - Ref. 154166-4</td>\n",
       "    </tr>\n",
       "    <tr>\n",
       "      <th>3</th>\n",
       "      <td>https://procureimovel.com.br/imovel/casa-venda...</td>\n",
       "      <td>Casa com 2 quartos à Venda - Ref. 134986-4</td>\n",
       "    </tr>\n",
       "    <tr>\n",
       "      <th>4</th>\n",
       "      <td>https://procureimovel.com.br/imovel/casa-venda...</td>\n",
       "      <td>Casa de 70m² à Venda, 2 quartos - Ref. 134520-4</td>\n",
       "    </tr>\n",
       "    <tr>\n",
       "      <th>...</th>\n",
       "      <td>...</td>\n",
       "      <td>...</td>\n",
       "    </tr>\n",
       "    <tr>\n",
       "      <th>3989</th>\n",
       "      <td>https://procureimovel.com.br/imovel/casa-venda...</td>\n",
       "      <td>Casa à Venda em Ponta Grossa - Ref. 134613-4</td>\n",
       "    </tr>\n",
       "    <tr>\n",
       "      <th>3990</th>\n",
       "      <td>https://procureimovel.com.br/imovel/casa-venda...</td>\n",
       "      <td>Casa de 990m² à Venda, 4 quartos - Ref. 134592-4</td>\n",
       "    </tr>\n",
       "    <tr>\n",
       "      <th>3991</th>\n",
       "      <td>https://procureimovel.com.br/imovel/casa-venda...</td>\n",
       "      <td>Casa de 638m² à Venda, 6 quartos - Ref. 142989-4</td>\n",
       "    </tr>\n",
       "    <tr>\n",
       "      <th>3992</th>\n",
       "      <td>https://procureimovel.com.br/imovel/casa-venda...</td>\n",
       "      <td>Casa de 335m² à Venda, 3 quartos - Ref. 102109-4</td>\n",
       "    </tr>\n",
       "    <tr>\n",
       "      <th>3993</th>\n",
       "      <td>https://procureimovel.com.br/imovel/casa-venda...</td>\n",
       "      <td>Casa de 194m² à Venda, 3 quartos - Ref. 134491-4</td>\n",
       "    </tr>\n",
       "  </tbody>\n",
       "</table>\n",
       "<p>3994 rows × 2 columns</p>\n",
       "</div>"
      ],
      "text/plain": [
       "                                                   link  \\\n",
       "0     https://procureimovel.com.br/imovel/casa-venda...   \n",
       "1     https://procureimovel.com.br/imovel/casa-venda...   \n",
       "2     https://procureimovel.com.br/imovel/casa-venda...   \n",
       "3     https://procureimovel.com.br/imovel/casa-venda...   \n",
       "4     https://procureimovel.com.br/imovel/casa-venda...   \n",
       "...                                                 ...   \n",
       "3989  https://procureimovel.com.br/imovel/casa-venda...   \n",
       "3990  https://procureimovel.com.br/imovel/casa-venda...   \n",
       "3991  https://procureimovel.com.br/imovel/casa-venda...   \n",
       "3992  https://procureimovel.com.br/imovel/casa-venda...   \n",
       "3993  https://procureimovel.com.br/imovel/casa-venda...   \n",
       "\n",
       "                                                 title  \n",
       "0     Casa de 164m² à Venda, 3 quartos - Ref. 132860-4  \n",
       "1           Casa com 3 quartos à Venda - Ref. 148460-4  \n",
       "2           Casa com 3 quartos à Venda - Ref. 154166-4  \n",
       "3           Casa com 2 quartos à Venda - Ref. 134986-4  \n",
       "4      Casa de 70m² à Venda, 2 quartos - Ref. 134520-4  \n",
       "...                                                ...  \n",
       "3989      Casa à Venda em Ponta Grossa - Ref. 134613-4  \n",
       "3990  Casa de 990m² à Venda, 4 quartos - Ref. 134592-4  \n",
       "3991  Casa de 638m² à Venda, 6 quartos - Ref. 142989-4  \n",
       "3992  Casa de 335m² à Venda, 3 quartos - Ref. 102109-4  \n",
       "3993  Casa de 194m² à Venda, 3 quartos - Ref. 134491-4  \n",
       "\n",
       "[3994 rows x 2 columns]"
      ]
     },
     "execution_count": 41,
     "metadata": {},
     "output_type": "execute_result"
    }
   ],
   "source": [
    "df"
   ]
  },
  {
   "cell_type": "markdown",
   "metadata": {},
   "source": [
    "# Parte 3"
   ]
  },
  {
   "cell_type": "markdown",
   "metadata": {},
   "source": [
    "Cada link do dataframe da Parte 2 será baixado para a pasta dados brutos"
   ]
  },
  {
   "cell_type": "code",
   "execution_count": 42,
   "metadata": {},
   "outputs": [],
   "source": [
    "lista_de_links = df['link'].unique()"
   ]
  },
  {
   "cell_type": "code",
   "execution_count": 43,
   "metadata": {},
   "outputs": [
    {
     "data": {
      "text/plain": [
       "(3963,)"
      ]
     },
     "execution_count": 43,
     "metadata": {},
     "output_type": "execute_result"
    }
   ],
   "source": [
    "lista_de_links.shape"
   ]
  },
  {
   "cell_type": "markdown",
   "metadata": {},
   "source": [
    "Serão baixadas 3963 páginas html"
   ]
  },
  {
   "cell_type": "code",
   "execution_count": null,
   "metadata": {},
   "outputs": [],
   "source": [
    "x = 0\n",
    "\n",
    "inicio = time.time()\n",
    "for link in lista_de_links:\n",
    "    #print(link)\n",
    "    response = rq.get(link)\n",
    "    with open('./dados_brutos/imovel_{}.html'.format(x), '+w',  encoding=\"utf-8\") as output:\n",
    "        output.write(response.text)\n",
    "    #time.sleep(2)\n",
    "    x = x + 1\n",
    "fim = time.time()\n",
    "print(\"Tempo para processamento de {} páginas: {:.2f}\".format(lista_de_links.shape[0], (fim - inicio)))"
   ]
  },
  {
   "cell_type": "markdown",
   "metadata": {},
   "source": [
    "# Parte 4"
   ]
  },
  {
   "cell_type": "markdown",
   "metadata": {},
   "source": [
    "Na Parte 4 serão extraídas as informações de cada página html baixada na parte 3  \n",
    "Como resultado dessa parte teremos um JSON com as informações de todas as casas. "
   ]
  },
  {
   "cell_type": "code",
   "execution_count": 47,
   "metadata": {},
   "outputs": [
    {
     "name": "stdout",
     "output_type": "stream",
     "text": [
      "Tempo para processamento de 3963 páginas: 166.59\n"
     ]
    }
   ],
   "source": [
    "data = {}\n",
    "inicio = time.time()\n",
    "for x in range(0,lista_de_links.shape[0]):\n",
    "    with open('./dados_brutos/imovel_{}.html'.format(x), 'r+', encoding=\"utf-8\") as inp:\n",
    "        page_html = inp.read()\n",
    "        parsed = bs4.BeautifulSoup(page_html)\n",
    "        tags = parsed.findAll(\"ul\", \"property-features margin-top-0\")\n",
    "        if len(tags) == 0:\n",
    "            continue\n",
    "        tags = tags[0].findAll('li')\n",
    "        for e in tags:\n",
    "            vetor_palavras = 0\n",
    "            textos = e.get_text()\n",
    "            vetor_palavras = textos.split(':')\n",
    "            data[vetor_palavras[0]] = vetor_palavras[-1]\n",
    "        with open('informacao_casas.json', 'a+') as output:\n",
    "            output.write('{}\\n'.format(json.dumps(data)))\n",
    "        data.clear()\n",
    "fim = time.time()\n",
    "print(\"Tempo para processamento de {} páginas: {:.2f}\".format(lista_de_links.shape[0], (fim - inicio)))"
   ]
  },
  {
   "cell_type": "code",
   "execution_count": 48,
   "metadata": {},
   "outputs": [],
   "source": [
    "df = pd.read_json(open(\"informacao_casas.json\", \"r\", encoding=\"utf8\"), lines=True)"
   ]
  }
 ],
 "metadata": {
  "kernelspec": {
   "display_name": "Python 3",
   "language": "python",
   "name": "python3"
  },
  "language_info": {
   "codemirror_mode": {
    "name": "ipython",
    "version": 3
   },
   "file_extension": ".py",
   "mimetype": "text/x-python",
   "name": "python",
   "nbconvert_exporter": "python",
   "pygments_lexer": "ipython3",
   "version": "3.7.6"
  }
 },
 "nbformat": 4,
 "nbformat_minor": 4
}
