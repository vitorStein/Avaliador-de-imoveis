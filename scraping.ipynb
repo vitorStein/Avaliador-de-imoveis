{
 "cells": [
  {
   "cell_type": "code",
   "execution_count": 4,
   "metadata": {},
   "outputs": [],
   "source": [
    "import requests as rq\n",
    "import bs4 as bs4\n",
    "import time\n",
    "import json\n",
    "import pandas as pd\n",
    "import numpy as np"
   ]
  },
  {
   "cell_type": "markdown",
   "metadata": {},
   "source": [
    "# Parte 1 \n",
    "\n",
    "Coleta base"
   ]
  },
  {
   "cell_type": "code",
   "execution_count": 2,
   "metadata": {},
   "outputs": [],
   "source": [
    "url_casa = \"https://procureimovel.com.br/venda/ponta-grossa-pr/casa?page={}\""
   ]
  },
  {
   "cell_type": "code",
   "execution_count": 74,
   "metadata": {},
   "outputs": [],
   "source": [
    "# Coletando os dados da página principal de casas \n",
    "# Primeira coleta\n",
    "\n",
    "for x in range(1,135):\n",
    "    urll = url_casa.format(x)\n",
    "    #print(urll)\n",
    "    response = rq.get(urll)\n",
    "\n",
    "    with open('./dados_brutos/casa_{}.html'.format(x), \"w+\", encoding=\"utf-8\") as output:\n",
    "        output.write(response.text)\n",
    "    time.sleep(2)"
   ]
  },
  {
   "cell_type": "markdown",
   "metadata": {},
   "source": [
    "# Parte 2\n",
    "Links para as páginas e title"
   ]
  },
  {
   "cell_type": "code",
   "execution_count": 12,
   "metadata": {},
   "outputs": [],
   "source": [
    "# Segunda coleta\n",
    "# Vai coletar os links das páginas e o title \n",
    "\n",
    "for x in range(1,135):\n",
    "    with open('./dados_brutos/casa_{}.html'.format(x), 'r+', encoding=\"utf-8\") as inp:\n",
    "            page_html = inp.read()\n",
    "            parsed = bs4.BeautifulSoup(page_html)\n",
    "            tags = parsed.findAll(\"div\", \"listing-item\")\n",
    "    for e in tags:\n",
    "        tags_ = e.find_all('a')\n",
    "        for f in tags_:\n",
    "            link = f['href']\n",
    "            if f.has_attr('title'):\n",
    "                title = f['title']\n",
    "                with open('link_and_title.json', 'a+') as output:\n",
    "                    data = {'link': link, 'title': title}\n",
    "                    output.write('{}\\n'.format(json.dumps(data)))"
   ]
  },
  {
   "cell_type": "code",
   "execution_count": 40,
   "metadata": {},
   "outputs": [],
   "source": [
    "df = pd.read_json('link_and_title.json', lines=True)"
   ]
  },
  {
   "cell_type": "code",
   "execution_count": 41,
   "metadata": {},
   "outputs": [
    {
     "data": {
      "text/html": [
       "<div>\n",
       "<style scoped>\n",
       "    .dataframe tbody tr th:only-of-type {\n",
       "        vertical-align: middle;\n",
       "    }\n",
       "\n",
       "    .dataframe tbody tr th {\n",
       "        vertical-align: top;\n",
       "    }\n",
       "\n",
       "    .dataframe thead th {\n",
       "        text-align: right;\n",
       "    }\n",
       "</style>\n",
       "<table border=\"1\" class=\"dataframe\">\n",
       "  <thead>\n",
       "    <tr style=\"text-align: right;\">\n",
       "      <th></th>\n",
       "      <th>link</th>\n",
       "      <th>title</th>\n",
       "    </tr>\n",
       "  </thead>\n",
       "  <tbody>\n",
       "    <tr>\n",
       "      <th>0</th>\n",
       "      <td>https://procureimovel.com.br/imovel/casa-venda...</td>\n",
       "      <td>Casa de 164m² à Venda, 3 quartos - Ref. 132860-4</td>\n",
       "    </tr>\n",
       "    <tr>\n",
       "      <th>1</th>\n",
       "      <td>https://procureimovel.com.br/imovel/casa-venda...</td>\n",
       "      <td>Casa com 3 quartos à Venda - Ref. 148460-4</td>\n",
       "    </tr>\n",
       "    <tr>\n",
       "      <th>2</th>\n",
       "      <td>https://procureimovel.com.br/imovel/casa-venda...</td>\n",
       "      <td>Casa com 3 quartos à Venda - Ref. 154166-4</td>\n",
       "    </tr>\n",
       "    <tr>\n",
       "      <th>3</th>\n",
       "      <td>https://procureimovel.com.br/imovel/casa-venda...</td>\n",
       "      <td>Casa com 2 quartos à Venda - Ref. 134986-4</td>\n",
       "    </tr>\n",
       "    <tr>\n",
       "      <th>4</th>\n",
       "      <td>https://procureimovel.com.br/imovel/casa-venda...</td>\n",
       "      <td>Casa de 70m² à Venda, 2 quartos - Ref. 134520-4</td>\n",
       "    </tr>\n",
       "    <tr>\n",
       "      <th>...</th>\n",
       "      <td>...</td>\n",
       "      <td>...</td>\n",
       "    </tr>\n",
       "    <tr>\n",
       "      <th>3989</th>\n",
       "      <td>https://procureimovel.com.br/imovel/casa-venda...</td>\n",
       "      <td>Casa à Venda em Ponta Grossa - Ref. 134613-4</td>\n",
       "    </tr>\n",
       "    <tr>\n",
       "      <th>3990</th>\n",
       "      <td>https://procureimovel.com.br/imovel/casa-venda...</td>\n",
       "      <td>Casa de 990m² à Venda, 4 quartos - Ref. 134592-4</td>\n",
       "    </tr>\n",
       "    <tr>\n",
       "      <th>3991</th>\n",
       "      <td>https://procureimovel.com.br/imovel/casa-venda...</td>\n",
       "      <td>Casa de 638m² à Venda, 6 quartos - Ref. 142989-4</td>\n",
       "    </tr>\n",
       "    <tr>\n",
       "      <th>3992</th>\n",
       "      <td>https://procureimovel.com.br/imovel/casa-venda...</td>\n",
       "      <td>Casa de 335m² à Venda, 3 quartos - Ref. 102109-4</td>\n",
       "    </tr>\n",
       "    <tr>\n",
       "      <th>3993</th>\n",
       "      <td>https://procureimovel.com.br/imovel/casa-venda...</td>\n",
       "      <td>Casa de 194m² à Venda, 3 quartos - Ref. 134491-4</td>\n",
       "    </tr>\n",
       "  </tbody>\n",
       "</table>\n",
       "<p>3994 rows × 2 columns</p>\n",
       "</div>"
      ],
      "text/plain": [
       "                                                   link  \\\n",
       "0     https://procureimovel.com.br/imovel/casa-venda...   \n",
       "1     https://procureimovel.com.br/imovel/casa-venda...   \n",
       "2     https://procureimovel.com.br/imovel/casa-venda...   \n",
       "3     https://procureimovel.com.br/imovel/casa-venda...   \n",
       "4     https://procureimovel.com.br/imovel/casa-venda...   \n",
       "...                                                 ...   \n",
       "3989  https://procureimovel.com.br/imovel/casa-venda...   \n",
       "3990  https://procureimovel.com.br/imovel/casa-venda...   \n",
       "3991  https://procureimovel.com.br/imovel/casa-venda...   \n",
       "3992  https://procureimovel.com.br/imovel/casa-venda...   \n",
       "3993  https://procureimovel.com.br/imovel/casa-venda...   \n",
       "\n",
       "                                                 title  \n",
       "0     Casa de 164m² à Venda, 3 quartos - Ref. 132860-4  \n",
       "1           Casa com 3 quartos à Venda - Ref. 148460-4  \n",
       "2           Casa com 3 quartos à Venda - Ref. 154166-4  \n",
       "3           Casa com 2 quartos à Venda - Ref. 134986-4  \n",
       "4      Casa de 70m² à Venda, 2 quartos - Ref. 134520-4  \n",
       "...                                                ...  \n",
       "3989      Casa à Venda em Ponta Grossa - Ref. 134613-4  \n",
       "3990  Casa de 990m² à Venda, 4 quartos - Ref. 134592-4  \n",
       "3991  Casa de 638m² à Venda, 6 quartos - Ref. 142989-4  \n",
       "3992  Casa de 335m² à Venda, 3 quartos - Ref. 102109-4  \n",
       "3993  Casa de 194m² à Venda, 3 quartos - Ref. 134491-4  \n",
       "\n",
       "[3994 rows x 2 columns]"
      ]
     },
     "execution_count": 41,
     "metadata": {},
     "output_type": "execute_result"
    }
   ],
   "source": [
    "df"
   ]
  },
  {
   "cell_type": "markdown",
   "metadata": {},
   "source": [
    "# Parte 3"
   ]
  },
  {
   "cell_type": "code",
   "execution_count": 42,
   "metadata": {},
   "outputs": [],
   "source": [
    "lista_de_links = df['link'].unique()"
   ]
  },
  {
   "cell_type": "code",
   "execution_count": 43,
   "metadata": {},
   "outputs": [
    {
     "data": {
      "text/plain": [
       "(3963,)"
      ]
     },
     "execution_count": 43,
     "metadata": {},
     "output_type": "execute_result"
    }
   ],
   "source": [
    "lista_de_links.shape"
   ]
  },
  {
   "cell_type": "code",
   "execution_count": 18,
   "metadata": {},
   "outputs": [
    {
     "name": "stdout",
     "output_type": "stream",
     "text": [
      "Tempo para processamento de 4206 páginas: 791.3360860347748\n"
     ]
    }
   ],
   "source": [
    "x = 0\n",
    "\n",
    "inicio = time.time()\n",
    "for link in lista_de_links:\n",
    "    #print(link)\n",
    "    response = rq.get(link)\n",
    "    with open('./dados_brutos/imovel_{}.html'.format(x), '+w',  encoding=\"utf-8\") as output:\n",
    "        output.write(response.text)\n",
    "    #time.sleep(2)\n",
    "    x = x + 1\n",
    "fim = time.time()\n",
    "print(\"Tempo para processamento de {} páginas: {:.2f}\".format(lista_de_links.shape[0], (fim - inicio)))"
   ]
  },
  {
   "cell_type": "markdown",
   "metadata": {},
   "source": [
    "# Parte 4"
   ]
  },
  {
   "cell_type": "code",
   "execution_count": 47,
   "metadata": {},
   "outputs": [
    {
     "name": "stdout",
     "output_type": "stream",
     "text": [
      "Tempo para processamento de 3963 páginas: 166.59\n"
     ]
    }
   ],
   "source": [
    "data = {}\n",
    "inicio = time.time()\n",
    "for x in range(0,lista_de_links.shape[0]):\n",
    "    with open('./dados_brutos/imovel_{}.html'.format(x), 'r+', encoding=\"utf-8\") as inp:\n",
    "        page_html = inp.read()\n",
    "        parsed = bs4.BeautifulSoup(page_html)\n",
    "        tags = parsed.findAll(\"ul\", \"property-features margin-top-0\")\n",
    "        if len(tags) == 0:\n",
    "            continue\n",
    "        tags = tags[0].findAll('li')\n",
    "        for e in tags:\n",
    "            vetor_palavras = 0\n",
    "            textos = e.get_text()\n",
    "            vetor_palavras = textos.split(':')\n",
    "            data[vetor_palavras[0]] = vetor_palavras[-1]\n",
    "        with open('informacao_casas.json', 'a+') as output:\n",
    "            output.write('{}\\n'.format(json.dumps(data)))\n",
    "        data.clear()\n",
    "fim = time.time()\n",
    "print(\"Tempo para processamento de {} páginas: {:.2f}\".format(lista_de_links.shape[0], (fim - inicio)))"
   ]
  },
  {
   "cell_type": "code",
   "execution_count": 48,
   "metadata": {},
   "outputs": [],
   "source": [
    "df = pd.read_json(open(\"informacao_casas.json\", \"r\", encoding=\"utf8\"), lines=True)"
   ]
  },
  {
   "cell_type": "code",
   "execution_count": 49,
   "metadata": {},
   "outputs": [
    {
     "data": {
      "text/plain": [
       "(3963, 16)"
      ]
     },
     "execution_count": 49,
     "metadata": {},
     "output_type": "execute_result"
    }
   ],
   "source": [
    "df.shape"
   ]
  },
  {
   "cell_type": "markdown",
   "metadata": {},
   "source": [
    "# Parte 5\n",
    "Limpeza dos dados"
   ]
  },
  {
   "cell_type": "code",
   "execution_count": 27,
   "metadata": {},
   "outputs": [],
   "source": [
    "df = pd.read_csv('info.csv')"
   ]
  },
  {
   "cell_type": "code",
   "execution_count": 39,
   "metadata": {},
   "outputs": [
    {
     "data": {
      "text/plain": [
       "0        R$ 430.000\n",
       "1        R$ 350.000\n",
       "2        R$ 300.000\n",
       "3        R$ 190.000\n",
       "4        R$ 190.000\n",
       "           ...     \n",
       "8164     R$ 720.000\n",
       "8165     R$ 720.000\n",
       "8166     R$ 719.712\n",
       "8167     R$ 702.718\n",
       "8168     R$ 700.000\n",
       "Name: Valor Venda, Length: 8169, dtype: object"
      ]
     },
     "execution_count": 39,
     "metadata": {},
     "output_type": "execute_result"
    }
   ],
   "source": [
    "df['Valor Venda']"
   ]
  },
  {
   "cell_type": "code",
   "execution_count": null,
   "metadata": {},
   "outputs": [],
   "source": [
    "df.drop(columns='Área Construída', inplace=True)\n",
    "df.drop(columns='Aceita Permuta', inplace=True)\n",
    "df.drop(columns='Área Privativa', inplace=True)\n",
    "df.drop(columns='Área Útil', inplace=True)\n",
    "df.drop(columns='Ano de Construção', inplace=True)\n",
    "df.drop(columns='IPTU', inplace=True)\n",
    "df.drop(columns='Condomínio', inplace=True)"
   ]
  },
  {
   "cell_type": "code",
   "execution_count": 93,
   "metadata": {},
   "outputs": [],
   "source": [
    "def transformaEmInt(x):\n",
    "    x = str(x)\n",
    "    y = str(np.NaN)\n",
    "    if x == y:\n",
    "        return ''\n",
    "    else:\n",
    "        return x.astype(int)"
   ]
  },
  {
   "cell_type": "code",
   "execution_count": 24,
   "metadata": {},
   "outputs": [
    {
     "name": "stdout",
     "output_type": "stream",
     "text": [
      "<class 'pandas.core.frame.DataFrame'>\n",
      "RangeIndex: 3963 entries, 0 to 3962\n",
      "Data columns (total 10 columns):\n",
      " #   Column            Non-Null Count  Dtype  \n",
      "---  ------            --------------  -----  \n",
      " 0   Quartos           3558 non-null   float64\n",
      " 1   Banheiros         3319 non-null   float64\n",
      " 2   Vagas de Garagem  2630 non-null   float64\n",
      " 3   Área Total        2973 non-null   object \n",
      " 4   Valor Venda       3959 non-null   object \n",
      " 5   Bairro            3582 non-null   object \n",
      " 6   Endereço          3843 non-null   object \n",
      " 7   Referência        3963 non-null   object \n",
      " 8   Suítes            1861 non-null   Int64  \n",
      " 9   Tipo              3963 non-null   object \n",
      "dtypes: Int64(1), float64(3), object(6)\n",
      "memory usage: 313.6+ KB\n"
     ]
    }
   ],
   "source": [
    "df.info()"
   ]
  },
  {
   "cell_type": "code",
   "execution_count": 8,
   "metadata": {},
   "outputs": [],
   "source": [
    "df['Tipo'] = 'Casa'"
   ]
  },
  {
   "cell_type": "code",
   "execution_count": 26,
   "metadata": {},
   "outputs": [
    {
     "ename": "ValueError",
     "evalue": "cannot convert to 'int32'-dtype NumPy array with missing values. Specify an appropriate 'na_value' for this dtype.",
     "output_type": "error",
     "traceback": [
      "\u001b[1;31m---------------------------------------------------------------------------\u001b[0m",
      "\u001b[1;31mValueError\u001b[0m                                Traceback (most recent call last)",
      "\u001b[1;32m<ipython-input-26-22e0b21d2a14>\u001b[0m in \u001b[0;36m<module>\u001b[1;34m\u001b[0m\n\u001b[1;32m----> 1\u001b[1;33m \u001b[0mdf\u001b[0m\u001b[1;33m[\u001b[0m\u001b[1;34m'Suítes'\u001b[0m\u001b[1;33m]\u001b[0m \u001b[1;33m=\u001b[0m \u001b[0mdf\u001b[0m\u001b[1;33m[\u001b[0m\u001b[1;34m'Suítes'\u001b[0m\u001b[1;33m]\u001b[0m\u001b[1;33m.\u001b[0m\u001b[0mastype\u001b[0m\u001b[1;33m(\u001b[0m\u001b[1;34m'int'\u001b[0m\u001b[1;33m)\u001b[0m\u001b[1;33m\u001b[0m\u001b[1;33m\u001b[0m\u001b[0m\n\u001b[0m",
      "\u001b[1;32m~\\anaconda3\\lib\\site-packages\\pandas\\core\\generic.py\u001b[0m in \u001b[0;36mastype\u001b[1;34m(self, dtype, copy, errors)\u001b[0m\n\u001b[0;32m   5696\u001b[0m         \u001b[1;32melse\u001b[0m\u001b[1;33m:\u001b[0m\u001b[1;33m\u001b[0m\u001b[1;33m\u001b[0m\u001b[0m\n\u001b[0;32m   5697\u001b[0m             \u001b[1;31m# else, only a single dtype is given\u001b[0m\u001b[1;33m\u001b[0m\u001b[1;33m\u001b[0m\u001b[1;33m\u001b[0m\u001b[0m\n\u001b[1;32m-> 5698\u001b[1;33m             \u001b[0mnew_data\u001b[0m \u001b[1;33m=\u001b[0m \u001b[0mself\u001b[0m\u001b[1;33m.\u001b[0m\u001b[0m_data\u001b[0m\u001b[1;33m.\u001b[0m\u001b[0mastype\u001b[0m\u001b[1;33m(\u001b[0m\u001b[0mdtype\u001b[0m\u001b[1;33m=\u001b[0m\u001b[0mdtype\u001b[0m\u001b[1;33m,\u001b[0m \u001b[0mcopy\u001b[0m\u001b[1;33m=\u001b[0m\u001b[0mcopy\u001b[0m\u001b[1;33m,\u001b[0m \u001b[0merrors\u001b[0m\u001b[1;33m=\u001b[0m\u001b[0merrors\u001b[0m\u001b[1;33m)\u001b[0m\u001b[1;33m\u001b[0m\u001b[1;33m\u001b[0m\u001b[0m\n\u001b[0m\u001b[0;32m   5699\u001b[0m             \u001b[1;32mreturn\u001b[0m \u001b[0mself\u001b[0m\u001b[1;33m.\u001b[0m\u001b[0m_constructor\u001b[0m\u001b[1;33m(\u001b[0m\u001b[0mnew_data\u001b[0m\u001b[1;33m)\u001b[0m\u001b[1;33m.\u001b[0m\u001b[0m__finalize__\u001b[0m\u001b[1;33m(\u001b[0m\u001b[0mself\u001b[0m\u001b[1;33m)\u001b[0m\u001b[1;33m\u001b[0m\u001b[1;33m\u001b[0m\u001b[0m\n\u001b[0;32m   5700\u001b[0m \u001b[1;33m\u001b[0m\u001b[0m\n",
      "\u001b[1;32m~\\anaconda3\\lib\\site-packages\\pandas\\core\\internals\\managers.py\u001b[0m in \u001b[0;36mastype\u001b[1;34m(self, dtype, copy, errors)\u001b[0m\n\u001b[0;32m    580\u001b[0m \u001b[1;33m\u001b[0m\u001b[0m\n\u001b[0;32m    581\u001b[0m     \u001b[1;32mdef\u001b[0m \u001b[0mastype\u001b[0m\u001b[1;33m(\u001b[0m\u001b[0mself\u001b[0m\u001b[1;33m,\u001b[0m \u001b[0mdtype\u001b[0m\u001b[1;33m,\u001b[0m \u001b[0mcopy\u001b[0m\u001b[1;33m:\u001b[0m \u001b[0mbool\u001b[0m \u001b[1;33m=\u001b[0m \u001b[1;32mFalse\u001b[0m\u001b[1;33m,\u001b[0m \u001b[0merrors\u001b[0m\u001b[1;33m:\u001b[0m \u001b[0mstr\u001b[0m \u001b[1;33m=\u001b[0m \u001b[1;34m\"raise\"\u001b[0m\u001b[1;33m)\u001b[0m\u001b[1;33m:\u001b[0m\u001b[1;33m\u001b[0m\u001b[1;33m\u001b[0m\u001b[0m\n\u001b[1;32m--> 582\u001b[1;33m         \u001b[1;32mreturn\u001b[0m \u001b[0mself\u001b[0m\u001b[1;33m.\u001b[0m\u001b[0mapply\u001b[0m\u001b[1;33m(\u001b[0m\u001b[1;34m\"astype\"\u001b[0m\u001b[1;33m,\u001b[0m \u001b[0mdtype\u001b[0m\u001b[1;33m=\u001b[0m\u001b[0mdtype\u001b[0m\u001b[1;33m,\u001b[0m \u001b[0mcopy\u001b[0m\u001b[1;33m=\u001b[0m\u001b[0mcopy\u001b[0m\u001b[1;33m,\u001b[0m \u001b[0merrors\u001b[0m\u001b[1;33m=\u001b[0m\u001b[0merrors\u001b[0m\u001b[1;33m)\u001b[0m\u001b[1;33m\u001b[0m\u001b[1;33m\u001b[0m\u001b[0m\n\u001b[0m\u001b[0;32m    583\u001b[0m \u001b[1;33m\u001b[0m\u001b[0m\n\u001b[0;32m    584\u001b[0m     \u001b[1;32mdef\u001b[0m \u001b[0mconvert\u001b[0m\u001b[1;33m(\u001b[0m\u001b[0mself\u001b[0m\u001b[1;33m,\u001b[0m \u001b[1;33m**\u001b[0m\u001b[0mkwargs\u001b[0m\u001b[1;33m)\u001b[0m\u001b[1;33m:\u001b[0m\u001b[1;33m\u001b[0m\u001b[1;33m\u001b[0m\u001b[0m\n",
      "\u001b[1;32m~\\anaconda3\\lib\\site-packages\\pandas\\core\\internals\\managers.py\u001b[0m in \u001b[0;36mapply\u001b[1;34m(self, f, filter, **kwargs)\u001b[0m\n\u001b[0;32m    440\u001b[0m                 \u001b[0mapplied\u001b[0m \u001b[1;33m=\u001b[0m \u001b[0mb\u001b[0m\u001b[1;33m.\u001b[0m\u001b[0mapply\u001b[0m\u001b[1;33m(\u001b[0m\u001b[0mf\u001b[0m\u001b[1;33m,\u001b[0m \u001b[1;33m**\u001b[0m\u001b[0mkwargs\u001b[0m\u001b[1;33m)\u001b[0m\u001b[1;33m\u001b[0m\u001b[1;33m\u001b[0m\u001b[0m\n\u001b[0;32m    441\u001b[0m             \u001b[1;32melse\u001b[0m\u001b[1;33m:\u001b[0m\u001b[1;33m\u001b[0m\u001b[1;33m\u001b[0m\u001b[0m\n\u001b[1;32m--> 442\u001b[1;33m                 \u001b[0mapplied\u001b[0m \u001b[1;33m=\u001b[0m \u001b[0mgetattr\u001b[0m\u001b[1;33m(\u001b[0m\u001b[0mb\u001b[0m\u001b[1;33m,\u001b[0m \u001b[0mf\u001b[0m\u001b[1;33m)\u001b[0m\u001b[1;33m(\u001b[0m\u001b[1;33m**\u001b[0m\u001b[0mkwargs\u001b[0m\u001b[1;33m)\u001b[0m\u001b[1;33m\u001b[0m\u001b[1;33m\u001b[0m\u001b[0m\n\u001b[0m\u001b[0;32m    443\u001b[0m             \u001b[0mresult_blocks\u001b[0m \u001b[1;33m=\u001b[0m \u001b[0m_extend_blocks\u001b[0m\u001b[1;33m(\u001b[0m\u001b[0mapplied\u001b[0m\u001b[1;33m,\u001b[0m \u001b[0mresult_blocks\u001b[0m\u001b[1;33m)\u001b[0m\u001b[1;33m\u001b[0m\u001b[1;33m\u001b[0m\u001b[0m\n\u001b[0;32m    444\u001b[0m \u001b[1;33m\u001b[0m\u001b[0m\n",
      "\u001b[1;32m~\\anaconda3\\lib\\site-packages\\pandas\\core\\internals\\blocks.py\u001b[0m in \u001b[0;36mastype\u001b[1;34m(self, dtype, copy, errors)\u001b[0m\n\u001b[0;32m    605\u001b[0m         \u001b[1;32mif\u001b[0m \u001b[0mself\u001b[0m\u001b[1;33m.\u001b[0m\u001b[0mis_extension\u001b[0m\u001b[1;33m:\u001b[0m\u001b[1;33m\u001b[0m\u001b[1;33m\u001b[0m\u001b[0m\n\u001b[0;32m    606\u001b[0m             \u001b[1;31m# TODO: Should we try/except this astype?\u001b[0m\u001b[1;33m\u001b[0m\u001b[1;33m\u001b[0m\u001b[1;33m\u001b[0m\u001b[0m\n\u001b[1;32m--> 607\u001b[1;33m             \u001b[0mvalues\u001b[0m \u001b[1;33m=\u001b[0m \u001b[0mself\u001b[0m\u001b[1;33m.\u001b[0m\u001b[0mvalues\u001b[0m\u001b[1;33m.\u001b[0m\u001b[0mastype\u001b[0m\u001b[1;33m(\u001b[0m\u001b[0mdtype\u001b[0m\u001b[1;33m)\u001b[0m\u001b[1;33m\u001b[0m\u001b[1;33m\u001b[0m\u001b[0m\n\u001b[0m\u001b[0;32m    608\u001b[0m         \u001b[1;32melse\u001b[0m\u001b[1;33m:\u001b[0m\u001b[1;33m\u001b[0m\u001b[1;33m\u001b[0m\u001b[0m\n\u001b[0;32m    609\u001b[0m             \u001b[1;32mif\u001b[0m \u001b[0missubclass\u001b[0m\u001b[1;33m(\u001b[0m\u001b[0mdtype\u001b[0m\u001b[1;33m.\u001b[0m\u001b[0mtype\u001b[0m\u001b[1;33m,\u001b[0m \u001b[0mstr\u001b[0m\u001b[1;33m)\u001b[0m\u001b[1;33m:\u001b[0m\u001b[1;33m\u001b[0m\u001b[1;33m\u001b[0m\u001b[0m\n",
      "\u001b[1;32m~\\anaconda3\\lib\\site-packages\\pandas\\core\\arrays\\integer.py\u001b[0m in \u001b[0;36mastype\u001b[1;34m(self, dtype, copy)\u001b[0m\n\u001b[0;32m    467\u001b[0m             \u001b[0mkwargs\u001b[0m \u001b[1;33m=\u001b[0m \u001b[1;33m{\u001b[0m\u001b[1;33m}\u001b[0m\u001b[1;33m\u001b[0m\u001b[1;33m\u001b[0m\u001b[0m\n\u001b[0;32m    468\u001b[0m \u001b[1;33m\u001b[0m\u001b[0m\n\u001b[1;32m--> 469\u001b[1;33m         \u001b[0mdata\u001b[0m \u001b[1;33m=\u001b[0m \u001b[0mself\u001b[0m\u001b[1;33m.\u001b[0m\u001b[0mto_numpy\u001b[0m\u001b[1;33m(\u001b[0m\u001b[0mdtype\u001b[0m\u001b[1;33m=\u001b[0m\u001b[0mdtype\u001b[0m\u001b[1;33m,\u001b[0m \u001b[1;33m**\u001b[0m\u001b[0mkwargs\u001b[0m\u001b[1;33m)\u001b[0m\u001b[1;33m\u001b[0m\u001b[1;33m\u001b[0m\u001b[0m\n\u001b[0m\u001b[0;32m    470\u001b[0m         \u001b[1;32mreturn\u001b[0m \u001b[0mastype_nansafe\u001b[0m\u001b[1;33m(\u001b[0m\u001b[0mdata\u001b[0m\u001b[1;33m,\u001b[0m \u001b[0mdtype\u001b[0m\u001b[1;33m,\u001b[0m \u001b[0mcopy\u001b[0m\u001b[1;33m=\u001b[0m\u001b[1;32mFalse\u001b[0m\u001b[1;33m)\u001b[0m\u001b[1;33m\u001b[0m\u001b[1;33m\u001b[0m\u001b[0m\n\u001b[0;32m    471\u001b[0m \u001b[1;33m\u001b[0m\u001b[0m\n",
      "\u001b[1;32m~\\anaconda3\\lib\\site-packages\\pandas\\core\\arrays\\masked.py\u001b[0m in \u001b[0;36mto_numpy\u001b[1;34m(self, dtype, copy, na_value)\u001b[0m\n\u001b[0;32m    125\u001b[0m             ):\n\u001b[0;32m    126\u001b[0m                 raise ValueError(\n\u001b[1;32m--> 127\u001b[1;33m                     \u001b[1;34mf\"cannot convert to '{dtype}'-dtype NumPy array \"\u001b[0m\u001b[1;33m\u001b[0m\u001b[1;33m\u001b[0m\u001b[0m\n\u001b[0m\u001b[0;32m    128\u001b[0m                     \u001b[1;34m\"with missing values. Specify an appropriate 'na_value' \"\u001b[0m\u001b[1;33m\u001b[0m\u001b[1;33m\u001b[0m\u001b[0m\n\u001b[0;32m    129\u001b[0m                     \u001b[1;34m\"for this dtype.\"\u001b[0m\u001b[1;33m\u001b[0m\u001b[1;33m\u001b[0m\u001b[0m\n",
      "\u001b[1;31mValueError\u001b[0m: cannot convert to 'int32'-dtype NumPy array with missing values. Specify an appropriate 'na_value' for this dtype."
     ]
    }
   ],
   "source": [
    "df['Suítes'] = df['Suítes'].astype('int')"
   ]
  },
  {
   "cell_type": "code",
   "execution_count": 30,
   "metadata": {},
   "outputs": [
    {
     "data": {
      "text/plain": [
       "False"
      ]
     },
     "execution_count": 30,
     "metadata": {},
     "output_type": "execute_result"
    }
   ],
   "source": [
    "df['Suítes'][0] == np.NaN"
   ]
  },
  {
   "cell_type": "code",
   "execution_count": 34,
   "metadata": {},
   "outputs": [],
   "source": [
    "converted = df['Quartos'].convert_dtypes()"
   ]
  },
  {
   "cell_type": "code",
   "execution_count": 35,
   "metadata": {},
   "outputs": [
    {
     "data": {
      "text/plain": [
       "0       3\n",
       "1       3\n",
       "2       3\n",
       "3       2\n",
       "4       2\n",
       "       ..\n",
       "3958    3\n",
       "3959    3\n",
       "3960    3\n",
       "3961    4\n",
       "3962    4\n",
       "Name: Quartos, Length: 3963, dtype: Int64"
      ]
     },
     "execution_count": 35,
     "metadata": {},
     "output_type": "execute_result"
    }
   ],
   "source": [
    "converted"
   ]
  },
  {
   "cell_type": "code",
   "execution_count": 85,
   "metadata": {},
   "outputs": [],
   "source": [
    "f = df['Suítes'][25]"
   ]
  },
  {
   "cell_type": "code",
   "execution_count": 100,
   "metadata": {},
   "outputs": [
    {
     "data": {
      "text/plain": [
       "False"
      ]
     },
     "execution_count": 100,
     "metadata": {},
     "output_type": "execute_result"
    }
   ],
   "source": [
    "f == np.NaN"
   ]
  },
  {
   "cell_type": "code",
   "execution_count": 12,
   "metadata": {},
   "outputs": [],
   "source": [
    "df['Suítes'].fillna(356, inplace = True)"
   ]
  },
  {
   "cell_type": "code",
   "execution_count": 25,
   "metadata": {},
   "outputs": [],
   "source": [
    "df['Suítes'] = df['Suítes'].astype(int)"
   ]
  },
  {
   "cell_type": "code",
   "execution_count": 26,
   "metadata": {},
   "outputs": [
    {
     "data": {
      "text/plain": [
       "0       356\n",
       "1         1\n",
       "2         1\n",
       "3       356\n",
       "4       356\n",
       "       ... \n",
       "3958      1\n",
       "3959      2\n",
       "3960    356\n",
       "3961      1\n",
       "3962      3\n",
       "Name: Suítes, Length: 3963, dtype: int32"
      ]
     },
     "execution_count": 26,
     "metadata": {},
     "output_type": "execute_result"
    }
   ],
   "source": [
    "df['Suítes']"
   ]
  },
  {
   "cell_type": "code",
   "execution_count": 24,
   "metadata": {},
   "outputs": [
    {
     "data": {
      "text/plain": [
       "0       NaN\n",
       "1       1.0\n",
       "2       1.0\n",
       "3       NaN\n",
       "4       NaN\n",
       "       ... \n",
       "3958    1.0\n",
       "3959    2.0\n",
       "3960    NaN\n",
       "3961    1.0\n",
       "3962    3.0\n",
       "Name: Suítes, Length: 3963, dtype: float64"
      ]
     },
     "execution_count": 24,
     "metadata": {},
     "output_type": "execute_result"
    }
   ],
   "source": [
    "df['Suítes'].replace(356, np.NaN)"
   ]
  },
  {
   "cell_type": "code",
   "execution_count": null,
   "metadata": {},
   "outputs": [],
   "source": [
    "df['Quartos']"
   ]
  },
  {
   "cell_type": "code",
   "execution_count": 74,
   "metadata": {},
   "outputs": [],
   "source": [
    "dff = df['Suítes'].infer_objects()"
   ]
  },
  {
   "cell_type": "code",
   "execution_count": 76,
   "metadata": {},
   "outputs": [],
   "source": [
    "dff = pd.to_numeric(df['Suítes'], downcast='integer')"
   ]
  },
  {
   "cell_type": "code",
   "execution_count": 79,
   "metadata": {},
   "outputs": [],
   "source": [
    "teste = pd.read_csv('houses_to_rent_v2.csv')"
   ]
  },
  {
   "cell_type": "code",
   "execution_count": 82,
   "metadata": {},
   "outputs": [
    {
     "data": {
      "text/html": [
       "<div>\n",
       "<style scoped>\n",
       "    .dataframe tbody tr th:only-of-type {\n",
       "        vertical-align: middle;\n",
       "    }\n",
       "\n",
       "    .dataframe tbody tr th {\n",
       "        vertical-align: top;\n",
       "    }\n",
       "\n",
       "    .dataframe thead th {\n",
       "        text-align: right;\n",
       "    }\n",
       "</style>\n",
       "<table border=\"1\" class=\"dataframe\">\n",
       "  <thead>\n",
       "    <tr style=\"text-align: right;\">\n",
       "      <th></th>\n",
       "      <th>city</th>\n",
       "      <th>area</th>\n",
       "      <th>rooms</th>\n",
       "      <th>bathroom</th>\n",
       "      <th>parking spaces</th>\n",
       "      <th>floor</th>\n",
       "      <th>animal</th>\n",
       "      <th>furniture</th>\n",
       "      <th>hoa (R$)</th>\n",
       "      <th>rent amount (R$)</th>\n",
       "      <th>property tax (R$)</th>\n",
       "      <th>fire insurance (R$)</th>\n",
       "      <th>total (R$)</th>\n",
       "    </tr>\n",
       "  </thead>\n",
       "  <tbody>\n",
       "    <tr>\n",
       "      <th>0</th>\n",
       "      <td>São Paulo</td>\n",
       "      <td>70</td>\n",
       "      <td>2</td>\n",
       "      <td>1</td>\n",
       "      <td>1</td>\n",
       "      <td>7</td>\n",
       "      <td>acept</td>\n",
       "      <td>furnished</td>\n",
       "      <td>2065</td>\n",
       "      <td>3300</td>\n",
       "      <td>211</td>\n",
       "      <td>42</td>\n",
       "      <td>5618</td>\n",
       "    </tr>\n",
       "    <tr>\n",
       "      <th>1</th>\n",
       "      <td>São Paulo</td>\n",
       "      <td>320</td>\n",
       "      <td>4</td>\n",
       "      <td>4</td>\n",
       "      <td>0</td>\n",
       "      <td>20</td>\n",
       "      <td>acept</td>\n",
       "      <td>not furnished</td>\n",
       "      <td>1200</td>\n",
       "      <td>4960</td>\n",
       "      <td>1750</td>\n",
       "      <td>63</td>\n",
       "      <td>7973</td>\n",
       "    </tr>\n",
       "    <tr>\n",
       "      <th>2</th>\n",
       "      <td>Porto Alegre</td>\n",
       "      <td>80</td>\n",
       "      <td>1</td>\n",
       "      <td>1</td>\n",
       "      <td>1</td>\n",
       "      <td>6</td>\n",
       "      <td>acept</td>\n",
       "      <td>not furnished</td>\n",
       "      <td>1000</td>\n",
       "      <td>2800</td>\n",
       "      <td>0</td>\n",
       "      <td>41</td>\n",
       "      <td>3841</td>\n",
       "    </tr>\n",
       "    <tr>\n",
       "      <th>3</th>\n",
       "      <td>Porto Alegre</td>\n",
       "      <td>51</td>\n",
       "      <td>2</td>\n",
       "      <td>1</td>\n",
       "      <td>0</td>\n",
       "      <td>2</td>\n",
       "      <td>acept</td>\n",
       "      <td>not furnished</td>\n",
       "      <td>270</td>\n",
       "      <td>1112</td>\n",
       "      <td>22</td>\n",
       "      <td>17</td>\n",
       "      <td>1421</td>\n",
       "    </tr>\n",
       "    <tr>\n",
       "      <th>4</th>\n",
       "      <td>São Paulo</td>\n",
       "      <td>25</td>\n",
       "      <td>1</td>\n",
       "      <td>1</td>\n",
       "      <td>0</td>\n",
       "      <td>1</td>\n",
       "      <td>not acept</td>\n",
       "      <td>not furnished</td>\n",
       "      <td>0</td>\n",
       "      <td>800</td>\n",
       "      <td>25</td>\n",
       "      <td>11</td>\n",
       "      <td>836</td>\n",
       "    </tr>\n",
       "  </tbody>\n",
       "</table>\n",
       "</div>"
      ],
      "text/plain": [
       "           city  area  rooms  bathroom  parking spaces floor     animal  \\\n",
       "0     São Paulo    70      2         1               1     7      acept   \n",
       "1     São Paulo   320      4         4               0    20      acept   \n",
       "2  Porto Alegre    80      1         1               1     6      acept   \n",
       "3  Porto Alegre    51      2         1               0     2      acept   \n",
       "4     São Paulo    25      1         1               0     1  not acept   \n",
       "\n",
       "       furniture  hoa (R$)  rent amount (R$)  property tax (R$)  \\\n",
       "0      furnished      2065              3300                211   \n",
       "1  not furnished      1200              4960               1750   \n",
       "2  not furnished      1000              2800                  0   \n",
       "3  not furnished       270              1112                 22   \n",
       "4  not furnished         0               800                 25   \n",
       "\n",
       "   fire insurance (R$)  total (R$)  \n",
       "0                   42        5618  \n",
       "1                   63        7973  \n",
       "2                   41        3841  \n",
       "3                   17        1421  \n",
       "4                   11         836  "
      ]
     },
     "execution_count": 82,
     "metadata": {},
     "output_type": "execute_result"
    }
   ],
   "source": [
    "teste.head()"
   ]
  },
  {
   "cell_type": "code",
   "execution_count": 37,
   "metadata": {},
   "outputs": [],
   "source": [
    "dff = kk.replace('OI',np.NaN)"
   ]
  },
  {
   "cell_type": "code",
   "execution_count": 58,
   "metadata": {},
   "outputs": [
    {
     "data": {
      "text/plain": [
       "0       nan\n",
       "1       1.0\n",
       "2       1.0\n",
       "3       nan\n",
       "4       nan\n",
       "       ... \n",
       "3958    1.0\n",
       "3959    2.0\n",
       "3960    nan\n",
       "3961    1.0\n",
       "3962    3.0\n",
       "Name: Suítes, Length: 3963, dtype: object"
      ]
     },
     "execution_count": 58,
     "metadata": {},
     "output_type": "execute_result"
    }
   ],
   "source": [
    "dff"
   ]
  },
  {
   "cell_type": "code",
   "execution_count": 48,
   "metadata": {},
   "outputs": [
    {
     "data": {
      "text/plain": [
       "True"
      ]
     },
     "execution_count": 48,
     "metadata": {},
     "output_type": "execute_result"
    }
   ],
   "source": [
    "dff[25] == str(np.NaN)"
   ]
  },
  {
   "cell_type": "code",
   "execution_count": 62,
   "metadata": {},
   "outputs": [],
   "source": [
    "fg = pd.to_numeric(dff, errors='coerce', downcast='integer')"
   ]
  },
  {
   "cell_type": "code",
   "execution_count": 68,
   "metadata": {},
   "outputs": [],
   "source": [
    "fg = fg.astype(np.int, errors='ignore')"
   ]
  },
  {
   "cell_type": "code",
   "execution_count": 73,
   "metadata": {},
   "outputs": [
    {
     "ename": "AttributeError",
     "evalue": "'Series' object has no attribute 'type'",
     "output_type": "error",
     "traceback": [
      "\u001b[1;31m---------------------------------------------------------------------------\u001b[0m",
      "\u001b[1;31mAttributeError\u001b[0m                            Traceback (most recent call last)",
      "\u001b[1;32m<ipython-input-73-c66c23624316>\u001b[0m in \u001b[0;36m<module>\u001b[1;34m\u001b[0m\n\u001b[1;32m----> 1\u001b[1;33m \u001b[0mfg\u001b[0m\u001b[1;33m.\u001b[0m\u001b[0mtype\u001b[0m\u001b[1;33m\u001b[0m\u001b[1;33m\u001b[0m\u001b[0m\n\u001b[0m",
      "\u001b[1;32m~\\anaconda3\\lib\\site-packages\\pandas\\core\\generic.py\u001b[0m in \u001b[0;36m__getattr__\u001b[1;34m(self, name)\u001b[0m\n\u001b[0;32m   5272\u001b[0m             \u001b[1;32mif\u001b[0m \u001b[0mself\u001b[0m\u001b[1;33m.\u001b[0m\u001b[0m_info_axis\u001b[0m\u001b[1;33m.\u001b[0m\u001b[0m_can_hold_identifiers_and_holds_name\u001b[0m\u001b[1;33m(\u001b[0m\u001b[0mname\u001b[0m\u001b[1;33m)\u001b[0m\u001b[1;33m:\u001b[0m\u001b[1;33m\u001b[0m\u001b[1;33m\u001b[0m\u001b[0m\n\u001b[0;32m   5273\u001b[0m                 \u001b[1;32mreturn\u001b[0m \u001b[0mself\u001b[0m\u001b[1;33m[\u001b[0m\u001b[0mname\u001b[0m\u001b[1;33m]\u001b[0m\u001b[1;33m\u001b[0m\u001b[1;33m\u001b[0m\u001b[0m\n\u001b[1;32m-> 5274\u001b[1;33m             \u001b[1;32mreturn\u001b[0m \u001b[0mobject\u001b[0m\u001b[1;33m.\u001b[0m\u001b[0m__getattribute__\u001b[0m\u001b[1;33m(\u001b[0m\u001b[0mself\u001b[0m\u001b[1;33m,\u001b[0m \u001b[0mname\u001b[0m\u001b[1;33m)\u001b[0m\u001b[1;33m\u001b[0m\u001b[1;33m\u001b[0m\u001b[0m\n\u001b[0m\u001b[0;32m   5275\u001b[0m \u001b[1;33m\u001b[0m\u001b[0m\n\u001b[0;32m   5276\u001b[0m     \u001b[1;32mdef\u001b[0m \u001b[0m__setattr__\u001b[0m\u001b[1;33m(\u001b[0m\u001b[0mself\u001b[0m\u001b[1;33m,\u001b[0m \u001b[0mname\u001b[0m\u001b[1;33m:\u001b[0m \u001b[0mstr\u001b[0m\u001b[1;33m,\u001b[0m \u001b[0mvalue\u001b[0m\u001b[1;33m)\u001b[0m \u001b[1;33m->\u001b[0m \u001b[1;32mNone\u001b[0m\u001b[1;33m:\u001b[0m\u001b[1;33m\u001b[0m\u001b[1;33m\u001b[0m\u001b[0m\n",
      "\u001b[1;31mAttributeError\u001b[0m: 'Series' object has no attribute 'type'"
     ]
    }
   ],
   "source": []
  },
  {
   "cell_type": "code",
   "execution_count": 52,
   "metadata": {},
   "outputs": [],
   "source": [
    "tags = parsed.findAll(\"ul\", \"property-features margin-top-0\")"
   ]
  },
  {
   "cell_type": "code",
   "execution_count": 77,
   "metadata": {},
   "outputs": [],
   "source": [
    "tags = tags[0].findAll('li')"
   ]
  },
  {
   "cell_type": "code",
   "execution_count": 80,
   "metadata": {},
   "outputs": [
    {
     "name": "stdout",
     "output_type": "stream",
     "text": [
      "['Quartos', ' 3']\n",
      "['Suítes', ' 1']\n",
      "['Banheiros', ' 2']\n",
      "['Vagas de Garagem', ' 3']\n",
      "['Valor Venda', ' R$ 350.000']\n",
      "['Bairro', ' Jardim Carvalho']\n",
      "['Endereço', ' Av. Rocha Pombo']\n",
      "['Referência', ' 148460-4']\n"
     ]
    }
   ],
   "source": [
    "for f in tags:\n",
    "    textos = f.get_text()\n",
    "    vetor_palavras = textos.split(':')\n",
    "    print(vetor_palavras)\n",
    "    if 'Referência:' in textos:\n",
    "        break"
   ]
  },
  {
   "cell_type": "code",
   "execution_count": 57,
   "metadata": {},
   "outputs": [
    {
     "ename": "IndexError",
     "evalue": "list index out of range",
     "output_type": "error",
     "traceback": [
      "\u001b[1;31m---------------------------------------------------------------------------\u001b[0m",
      "\u001b[1;31mIndexError\u001b[0m                                Traceback (most recent call last)",
      "\u001b[1;32m<ipython-input-57-7987afde4cf6>\u001b[0m in \u001b[0;36m<module>\u001b[1;34m\u001b[0m\n\u001b[1;32m----> 1\u001b[1;33m \u001b[0mtextos\u001b[0m \u001b[1;33m=\u001b[0m \u001b[0mtags\u001b[0m\u001b[1;33m[\u001b[0m\u001b[1;36m1\u001b[0m\u001b[1;33m]\u001b[0m\u001b[1;33m.\u001b[0m\u001b[0mget_text\u001b[0m\u001b[1;33m(\u001b[0m\u001b[1;33m)\u001b[0m\u001b[1;33m\u001b[0m\u001b[1;33m\u001b[0m\u001b[0m\n\u001b[0m",
      "\u001b[1;31mIndexError\u001b[0m: list index out of range"
     ]
    }
   ],
   "source": [
    "textos = tags[1].get_text()"
   ]
  },
  {
   "cell_type": "code",
   "execution_count": 82,
   "metadata": {},
   "outputs": [],
   "source": [
    "data = {}"
   ]
  },
  {
   "cell_type": "code",
   "execution_count": 83,
   "metadata": {},
   "outputs": [
    {
     "data": {
      "text/plain": [
       "dict"
      ]
     },
     "execution_count": 83,
     "metadata": {},
     "output_type": "execute_result"
    }
   ],
   "source": [
    "type(data)"
   ]
  },
  {
   "cell_type": "code",
   "execution_count": 84,
   "metadata": {},
   "outputs": [],
   "source": [
    "for e in tags:\n",
    "    textos = e.get_text()\n",
    "    vetor_palavras = textos.split(':')\n",
    "    data[vetor_palavras[0]] = vetor_palavras[-1]\n",
    "    if 'Referência:' in textos:\n",
    "        break         "
   ]
  },
  {
   "cell_type": "code",
   "execution_count": 92,
   "metadata": {},
   "outputs": [],
   "source": [
    "data['Deu'] = 'meu piru'"
   ]
  },
  {
   "cell_type": "code",
   "execution_count": null,
   "metadata": {},
   "outputs": [],
   "source": [
    "\n",
    "    if 'Valor' in textos:\n",
    "        valor = vetor_palavras[-1]\n",
    "        \n",
    "    if 'Quartos' in textos:\n",
    "        quartos = vetor_palavras[-1]\n",
    "        \n",
    "    if 'Suítes' in textos:\n",
    "        valor = vetor_palavras[-1]\n",
    "        \n",
    "    if 'Banheiros' in textos:\n",
    "        quartos = vetor_palavras[-1] \n",
    "\n",
    "    if 'Garagem' in textos:\n",
    "        quartos = vetor_palavras[-1] "
   ]
  },
  {
   "cell_type": "code",
   "execution_count": 93,
   "metadata": {},
   "outputs": [],
   "source": [
    "with open('parsed_videos4.json', 'a+') as output:\n",
    "        output.write('{}\\n'.format(json.dumps(data)))"
   ]
  },
  {
   "cell_type": "code",
   "execution_count": 44,
   "metadata": {},
   "outputs": [
    {
     "data": {
      "text/plain": [
       "'3'"
      ]
     },
     "execution_count": 44,
     "metadata": {},
     "output_type": "execute_result"
    }
   ],
   "source": [
    "quartos"
   ]
  },
  {
   "cell_type": "code",
   "execution_count": 30,
   "metadata": {},
   "outputs": [],
   "source": [
    "data_item = pd.read_json(open(\"parsed_videos3.json\", \"r\", encoding=\"utf8\"),lines=True)"
   ]
  },
  {
   "cell_type": "code",
   "execution_count": 118,
   "metadata": {},
   "outputs": [],
   "source": [
    "df = pd.read_json(open(\"parsed_videos8.json\", \"r\", encoding=\"utf8\"), lines=True)"
   ]
  },
  {
   "cell_type": "code",
   "execution_count": 49,
   "metadata": {},
   "outputs": [
    {
     "data": {
      "text/html": [
       "<div>\n",
       "<style scoped>\n",
       "    .dataframe tbody tr th:only-of-type {\n",
       "        vertical-align: middle;\n",
       "    }\n",
       "\n",
       "    .dataframe tbody tr th {\n",
       "        vertical-align: top;\n",
       "    }\n",
       "\n",
       "    .dataframe thead th {\n",
       "        text-align: right;\n",
       "    }\n",
       "</style>\n",
       "<table border=\"1\" class=\"dataframe\">\n",
       "  <thead>\n",
       "    <tr style=\"text-align: right;\">\n",
       "      <th></th>\n",
       "      <th>Quartos</th>\n",
       "      <th>Banheiros</th>\n",
       "      <th>Vagas de Garagem</th>\n",
       "      <th>Área Total</th>\n",
       "      <th>Valor Venda</th>\n",
       "      <th>Bairro</th>\n",
       "      <th>Endereço</th>\n",
       "      <th>Referência</th>\n",
       "      <th>Suítes</th>\n",
       "      <th>Área Construída</th>\n",
       "      <th>Aceita Permuta</th>\n",
       "    </tr>\n",
       "  </thead>\n",
       "  <tbody>\n",
       "    <tr>\n",
       "      <th>0</th>\n",
       "      <td>3.0</td>\n",
       "      <td>2.0</td>\n",
       "      <td>2.0</td>\n",
       "      <td>164 m2</td>\n",
       "      <td>R$ 430.000</td>\n",
       "      <td>Uvaranas</td>\n",
       "      <td>Rua Casemiro de Abreu, 839</td>\n",
       "      <td>132860-4</td>\n",
       "      <td>NaN</td>\n",
       "      <td>NaN</td>\n",
       "      <td>NaN</td>\n",
       "    </tr>\n",
       "    <tr>\n",
       "      <th>1</th>\n",
       "      <td>3.0</td>\n",
       "      <td>2.0</td>\n",
       "      <td>3.0</td>\n",
       "      <td>NaN</td>\n",
       "      <td>R$ 350.000</td>\n",
       "      <td>Jardim Carvalho</td>\n",
       "      <td>Av. Rocha Pombo</td>\n",
       "      <td>148460-4</td>\n",
       "      <td>1.0</td>\n",
       "      <td>NaN</td>\n",
       "      <td>NaN</td>\n",
       "    </tr>\n",
       "    <tr>\n",
       "      <th>2</th>\n",
       "      <td>3.0</td>\n",
       "      <td>1.0</td>\n",
       "      <td>1.0</td>\n",
       "      <td>NaN</td>\n",
       "      <td>R$ 300.000</td>\n",
       "      <td>Oficinas</td>\n",
       "      <td>NaN</td>\n",
       "      <td>154166-4</td>\n",
       "      <td>1.0</td>\n",
       "      <td>NaN</td>\n",
       "      <td>NaN</td>\n",
       "    </tr>\n",
       "    <tr>\n",
       "      <th>3</th>\n",
       "      <td>2.0</td>\n",
       "      <td>1.0</td>\n",
       "      <td>1.0</td>\n",
       "      <td>NaN</td>\n",
       "      <td>R$ 190.000</td>\n",
       "      <td>NaN</td>\n",
       "      <td>RUA JOSÉ MACHADO DE OLIVEIRA</td>\n",
       "      <td>134986-4</td>\n",
       "      <td>NaN</td>\n",
       "      <td>NaN</td>\n",
       "      <td>NaN</td>\n",
       "    </tr>\n",
       "    <tr>\n",
       "      <th>4</th>\n",
       "      <td>2.0</td>\n",
       "      <td>1.0</td>\n",
       "      <td>1.0</td>\n",
       "      <td>70 m2</td>\n",
       "      <td>R$ 190.000</td>\n",
       "      <td>NaN</td>\n",
       "      <td>Rua José Machado de Oliveira</td>\n",
       "      <td>134520-4</td>\n",
       "      <td>NaN</td>\n",
       "      <td>NaN</td>\n",
       "      <td>NaN</td>\n",
       "    </tr>\n",
       "    <tr>\n",
       "      <th>...</th>\n",
       "      <td>...</td>\n",
       "      <td>...</td>\n",
       "      <td>...</td>\n",
       "      <td>...</td>\n",
       "      <td>...</td>\n",
       "      <td>...</td>\n",
       "      <td>...</td>\n",
       "      <td>...</td>\n",
       "      <td>...</td>\n",
       "      <td>...</td>\n",
       "      <td>...</td>\n",
       "    </tr>\n",
       "    <tr>\n",
       "      <th>114</th>\n",
       "      <td>3.0</td>\n",
       "      <td>3.0</td>\n",
       "      <td>3.0</td>\n",
       "      <td>200 m2</td>\n",
       "      <td>R$ 620.000</td>\n",
       "      <td>Jardim Carvalho</td>\n",
       "      <td>Rua Raul Pompéia, 31</td>\n",
       "      <td>85786-4</td>\n",
       "      <td>1.0</td>\n",
       "      <td>NaN</td>\n",
       "      <td>NaN</td>\n",
       "    </tr>\n",
       "    <tr>\n",
       "      <th>115</th>\n",
       "      <td>3.0</td>\n",
       "      <td>NaN</td>\n",
       "      <td>NaN</td>\n",
       "      <td>225 m2</td>\n",
       "      <td>R$ 620.000</td>\n",
       "      <td>Nova Rússia</td>\n",
       "      <td>Rua Pastor Fugmann, 411</td>\n",
       "      <td>146209-4</td>\n",
       "      <td>NaN</td>\n",
       "      <td>NaN</td>\n",
       "      <td>NaN</td>\n",
       "    </tr>\n",
       "    <tr>\n",
       "      <th>116</th>\n",
       "      <td>NaN</td>\n",
       "      <td>NaN</td>\n",
       "      <td>NaN</td>\n",
       "      <td>NaN</td>\n",
       "      <td>R$ 620.000</td>\n",
       "      <td>Nova Rússia</td>\n",
       "      <td>LISANDRO ALVES DE ARAUJO</td>\n",
       "      <td>109512-4</td>\n",
       "      <td>NaN</td>\n",
       "      <td>NaN</td>\n",
       "      <td>NaN</td>\n",
       "    </tr>\n",
       "    <tr>\n",
       "      <th>117</th>\n",
       "      <td>4.0</td>\n",
       "      <td>3.0</td>\n",
       "      <td>2.0</td>\n",
       "      <td>NaN</td>\n",
       "      <td>R$ 620.000</td>\n",
       "      <td>Jardim Carvalho</td>\n",
       "      <td>Rua Rocha Pombo, 1565</td>\n",
       "      <td>130881-4</td>\n",
       "      <td>1.0</td>\n",
       "      <td>NaN</td>\n",
       "      <td>NaN</td>\n",
       "    </tr>\n",
       "    <tr>\n",
       "      <th>118</th>\n",
       "      <td>3.0</td>\n",
       "      <td>3.0</td>\n",
       "      <td>2.0</td>\n",
       "      <td>177 m2</td>\n",
       "      <td>R$ 620.000</td>\n",
       "      <td>Uvaranas</td>\n",
       "      <td>Rua Aderly Turek, 250</td>\n",
       "      <td>147438-4</td>\n",
       "      <td>1.0</td>\n",
       "      <td>NaN</td>\n",
       "      <td>NaN</td>\n",
       "    </tr>\n",
       "  </tbody>\n",
       "</table>\n",
       "<p>119 rows × 11 columns</p>\n",
       "</div>"
      ],
      "text/plain": [
       "     Quartos  Banheiros  Vagas de Garagem Área Total  Valor Venda  \\\n",
       "0        3.0        2.0               2.0     164 m2   R$ 430.000   \n",
       "1        3.0        2.0               3.0        NaN   R$ 350.000   \n",
       "2        3.0        1.0               1.0        NaN   R$ 300.000   \n",
       "3        2.0        1.0               1.0        NaN   R$ 190.000   \n",
       "4        2.0        1.0               1.0      70 m2   R$ 190.000   \n",
       "..       ...        ...               ...        ...          ...   \n",
       "114      3.0        3.0               3.0     200 m2   R$ 620.000   \n",
       "115      3.0        NaN               NaN     225 m2   R$ 620.000   \n",
       "116      NaN        NaN               NaN        NaN   R$ 620.000   \n",
       "117      4.0        3.0               2.0        NaN   R$ 620.000   \n",
       "118      3.0        3.0               2.0     177 m2   R$ 620.000   \n",
       "\n",
       "               Bairro                       Endereço Referência  Suítes  \\\n",
       "0            Uvaranas     Rua Casemiro de Abreu, 839   132860-4     NaN   \n",
       "1     Jardim Carvalho                Av. Rocha Pombo   148460-4     1.0   \n",
       "2            Oficinas                            NaN   154166-4     1.0   \n",
       "3                 NaN   RUA JOSÉ MACHADO DE OLIVEIRA   134986-4     NaN   \n",
       "4                 NaN   Rua José Machado de Oliveira   134520-4     NaN   \n",
       "..                ...                            ...        ...     ...   \n",
       "114   Jardim Carvalho           Rua Raul Pompéia, 31    85786-4     1.0   \n",
       "115       Nova Rússia        Rua Pastor Fugmann, 411   146209-4     NaN   \n",
       "116       Nova Rússia       LISANDRO ALVES DE ARAUJO   109512-4     NaN   \n",
       "117   Jardim Carvalho          Rua Rocha Pombo, 1565   130881-4     1.0   \n",
       "118          Uvaranas          Rua Aderly Turek, 250   147438-4     1.0   \n",
       "\n",
       "    Área Construída Aceita Permuta  \n",
       "0               NaN            NaN  \n",
       "1               NaN            NaN  \n",
       "2               NaN            NaN  \n",
       "3               NaN            NaN  \n",
       "4               NaN            NaN  \n",
       "..              ...            ...  \n",
       "114             NaN            NaN  \n",
       "115             NaN            NaN  \n",
       "116             NaN            NaN  \n",
       "117             NaN            NaN  \n",
       "118             NaN            NaN  \n",
       "\n",
       "[119 rows x 11 columns]"
      ]
     },
     "execution_count": 49,
     "metadata": {},
     "output_type": "execute_result"
    }
   ],
   "source": [
    "df"
   ]
  },
  {
   "cell_type": "code",
   "execution_count": 34,
   "metadata": {},
   "outputs": [
    {
     "data": {
      "text/plain": [
       "'Valor R$ 350.000'"
      ]
     },
     "execution_count": 34,
     "metadata": {},
     "output_type": "execute_result"
    }
   ],
   "source": [
    "tags[3].get_text()"
   ]
  },
  {
   "cell_type": "code",
   "execution_count": 152,
   "metadata": {},
   "outputs": [],
   "source": [
    "vetor_palavras = tags[3].get_text().split()"
   ]
  },
  {
   "cell_type": "code",
   "execution_count": 153,
   "metadata": {},
   "outputs": [
    {
     "data": {
      "text/plain": [
       "['Valor', 'R$', '350.000']"
      ]
     },
     "execution_count": 153,
     "metadata": {},
     "output_type": "execute_result"
    }
   ],
   "source": [
    "vetor_palavras"
   ]
  },
  {
   "cell_type": "code",
   "execution_count": 154,
   "metadata": {},
   "outputs": [
    {
     "data": {
      "text/plain": [
       "'Valor'"
      ]
     },
     "execution_count": 154,
     "metadata": {},
     "output_type": "execute_result"
    }
   ],
   "source": [
    "vetor_palavras[0]"
   ]
  },
  {
   "cell_type": "code",
   "execution_count": 164,
   "metadata": {},
   "outputs": [
    {
     "data": {
      "text/plain": [
       "'350.000'"
      ]
     },
     "execution_count": 164,
     "metadata": {},
     "output_type": "execute_result"
    }
   ],
   "source": [
    "str(vetor_palavras[-1])"
   ]
  },
  {
   "cell_type": "code",
   "execution_count": 23,
   "metadata": {},
   "outputs": [
    {
     "data": {
      "text/plain": [
       "30"
      ]
     },
     "execution_count": 23,
     "metadata": {},
     "output_type": "execute_result"
    }
   ],
   "source": [
    "len(df['Referência'].unique())"
   ]
  },
  {
   "cell_type": "code",
   "execution_count": 10,
   "metadata": {},
   "outputs": [
    {
     "name": "stdout",
     "output_type": "stream",
     "text": [
      "<class 'pandas.core.frame.DataFrame'>\n",
      "RangeIndex: 3963 entries, 0 to 3962\n",
      "Data columns (total 16 columns):\n",
      " #   Column             Non-Null Count  Dtype  \n",
      "---  ------             --------------  -----  \n",
      " 0   Quartos            3558 non-null   float64\n",
      " 1   Banheiros          3319 non-null   float64\n",
      " 2   Vagas de Garagem   2630 non-null   float64\n",
      " 3   Área Total         2973 non-null   object \n",
      " 4   Valor Venda        3959 non-null   object \n",
      " 5   Bairro             3582 non-null   object \n",
      " 6   Endereço           3843 non-null   object \n",
      " 7   Referência         3963 non-null   object \n",
      " 8   Suítes             1861 non-null   float64\n",
      " 9   Área Construída    47 non-null     object \n",
      " 10  Aceita Permuta     2 non-null      object \n",
      " 11  Área Privativa     2 non-null      object \n",
      " 12  Área Útil          18 non-null     object \n",
      " 13  Ano de Construção  7 non-null      float64\n",
      " 14  Condomínio         175 non-null    object \n",
      " 15  IPTU               2 non-null      object \n",
      "dtypes: float64(5), object(11)\n",
      "memory usage: 495.5+ KB\n"
     ]
    }
   ],
   "source": [
    "df.info()"
   ]
  },
  {
   "cell_type": "code",
   "execution_count": 25,
   "metadata": {},
   "outputs": [],
   "source": [
    "import matplotlib.pyplot as plt"
   ]
  },
  {
   "cell_type": "code",
   "execution_count": 111,
   "metadata": {},
   "outputs": [
    {
     "data": {
      "text/plain": [
       "<matplotlib.axes._subplots.AxesSubplot at 0x18b825304c8>"
      ]
     },
     "execution_count": 111,
     "metadata": {},
     "output_type": "execute_result"
    },
    {
     "data": {
      "image/png": "[encoded data removed]",
      "text/plain": [
       "<Figure size 432x288 with 1 Axes>"
      ]
     },
     "metadata": {
      "needs_background": "light"
     },
     "output_type": "display_data"
    }
   ],
   "source": [
    "df['Quartos'].plot(kind = 'hist', bins=50)"
   ]
  },
  {
   "cell_type": "code",
   "execution_count": 21,
   "metadata": {},
   "outputs": [
    {
     "data": {
      "text/html": [
       "<style  type=\"text/css\" >\n",
       "    #T_02cd9b64_b1fa_11ea_845a_f48e38e3bb2brow0_col0 {\n",
       "            background-color:  #fee838;\n",
       "            color:  #000000;\n",
       "        }    #T_02cd9b64_b1fa_11ea_845a_f48e38e3bb2brow0_col1 {\n",
       "            background-color:  #9f9775;\n",
       "            color:  #000000;\n",
       "        }    #T_02cd9b64_b1fa_11ea_845a_f48e38e3bb2brow0_col2 {\n",
       "            background-color:  #555b6d;\n",
       "            color:  #f1f1f1;\n",
       "        }    #T_02cd9b64_b1fa_11ea_845a_f48e38e3bb2brow0_col3 {\n",
       "            background-color:  #737475;\n",
       "            color:  #000000;\n",
       "        }    #T_02cd9b64_b1fa_11ea_845a_f48e38e3bb2brow0_col4 {\n",
       "            background-color:  #00224e;\n",
       "            color:  #f1f1f1;\n",
       "        }    #T_02cd9b64_b1fa_11ea_845a_f48e38e3bb2brow1_col0 {\n",
       "            background-color:  #a69c74;\n",
       "            color:  #000000;\n",
       "        }    #T_02cd9b64_b1fa_11ea_845a_f48e38e3bb2brow1_col1 {\n",
       "            background-color:  #fee838;\n",
       "            color:  #000000;\n",
       "        }    #T_02cd9b64_b1fa_11ea_845a_f48e38e3bb2brow1_col2 {\n",
       "            background-color:  #5b606e;\n",
       "            color:  #f1f1f1;\n",
       "        }    #T_02cd9b64_b1fa_11ea_845a_f48e38e3bb2brow1_col3 {\n",
       "            background-color:  #8a8678;\n",
       "            color:  #000000;\n",
       "        }    #T_02cd9b64_b1fa_11ea_845a_f48e38e3bb2brow1_col4 {\n",
       "            background-color:  #002f6d;\n",
       "            color:  #f1f1f1;\n",
       "        }    #T_02cd9b64_b1fa_11ea_845a_f48e38e3bb2brow2_col0 {\n",
       "            background-color:  #9e9676;\n",
       "            color:  #000000;\n",
       "        }    #T_02cd9b64_b1fa_11ea_845a_f48e38e3bb2brow2_col1 {\n",
       "            background-color:  #9a9376;\n",
       "            color:  #000000;\n",
       "        }    #T_02cd9b64_b1fa_11ea_845a_f48e38e3bb2brow2_col2 {\n",
       "            background-color:  #fee838;\n",
       "            color:  #000000;\n",
       "        }    #T_02cd9b64_b1fa_11ea_845a_f48e38e3bb2brow2_col3 {\n",
       "            background-color:  #686a71;\n",
       "            color:  #000000;\n",
       "        }    #T_02cd9b64_b1fa_11ea_845a_f48e38e3bb2brow2_col4 {\n",
       "            background-color:  #757575;\n",
       "            color:  #000000;\n",
       "        }    #T_02cd9b64_b1fa_11ea_845a_f48e38e3bb2brow3_col0 {\n",
       "            background-color:  #858279;\n",
       "            color:  #000000;\n",
       "        }    #T_02cd9b64_b1fa_11ea_845a_f48e38e3bb2brow3_col1 {\n",
       "            background-color:  #918b78;\n",
       "            color:  #000000;\n",
       "        }    #T_02cd9b64_b1fa_11ea_845a_f48e38e3bb2brow3_col2 {\n",
       "            background-color:  #002a61;\n",
       "            color:  #f1f1f1;\n",
       "        }    #T_02cd9b64_b1fa_11ea_845a_f48e38e3bb2brow3_col3 {\n",
       "            background-color:  #fee838;\n",
       "            color:  #000000;\n",
       "        }    #T_02cd9b64_b1fa_11ea_845a_f48e38e3bb2brow3_col4 {\n",
       "            background-color:  #203a6f;\n",
       "            color:  #f1f1f1;\n",
       "        }    #T_02cd9b64_b1fa_11ea_845a_f48e38e3bb2brow4_col0 {\n",
       "            background-color:  #00224e;\n",
       "            color:  #f1f1f1;\n",
       "        }    #T_02cd9b64_b1fa_11ea_845a_f48e38e3bb2brow4_col1 {\n",
       "            background-color:  #00224e;\n",
       "            color:  #f1f1f1;\n",
       "        }    #T_02cd9b64_b1fa_11ea_845a_f48e38e3bb2brow4_col2 {\n",
       "            background-color:  #00224e;\n",
       "            color:  #f1f1f1;\n",
       "        }    #T_02cd9b64_b1fa_11ea_845a_f48e38e3bb2brow4_col3 {\n",
       "            background-color:  #00224e;\n",
       "            color:  #f1f1f1;\n",
       "        }    #T_02cd9b64_b1fa_11ea_845a_f48e38e3bb2brow4_col4 {\n",
       "            background-color:  #fee838;\n",
       "            color:  #000000;\n",
       "        }</style><table id=\"T_02cd9b64_b1fa_11ea_845a_f48e38e3bb2b\" ><thead>    <tr>        <th class=\"blank level0\" ></th>        <th class=\"col_heading level0 col0\" >Quartos</th>        <th class=\"col_heading level0 col1\" >Banheiros</th>        <th class=\"col_heading level0 col2\" >Vagas de Garagem</th>        <th class=\"col_heading level0 col3\" >Suítes</th>        <th class=\"col_heading level0 col4\" >Ano de Construção</th>    </tr></thead><tbody>\n",
       "                <tr>\n",
       "                        <th id=\"T_02cd9b64_b1fa_11ea_845a_f48e38e3bb2blevel0_row0\" class=\"row_heading level0 row0\" >Quartos</th>\n",
       "                        <td id=\"T_02cd9b64_b1fa_11ea_845a_f48e38e3bb2brow0_col0\" class=\"data row0 col0\" >1.000000</td>\n",
       "                        <td id=\"T_02cd9b64_b1fa_11ea_845a_f48e38e3bb2brow0_col1\" class=\"data row0 col1\" >0.526082</td>\n",
       "                        <td id=\"T_02cd9b64_b1fa_11ea_845a_f48e38e3bb2brow0_col2\" class=\"data row0 col2\" >0.481449</td>\n",
       "                        <td id=\"T_02cd9b64_b1fa_11ea_845a_f48e38e3bb2brow0_col3\" class=\"data row0 col3\" >0.333774</td>\n",
       "                        <td id=\"T_02cd9b64_b1fa_11ea_845a_f48e38e3bb2brow0_col4\" class=\"data row0 col4\" >-0.433333</td>\n",
       "            </tr>\n",
       "            <tr>\n",
       "                        <th id=\"T_02cd9b64_b1fa_11ea_845a_f48e38e3bb2blevel0_row1\" class=\"row_heading level0 row1\" >Banheiros</th>\n",
       "                        <td id=\"T_02cd9b64_b1fa_11ea_845a_f48e38e3bb2brow1_col0\" class=\"data row1 col0\" >0.526082</td>\n",
       "                        <td id=\"T_02cd9b64_b1fa_11ea_845a_f48e38e3bb2brow1_col1\" class=\"data row1 col1\" >1.000000</td>\n",
       "                        <td id=\"T_02cd9b64_b1fa_11ea_845a_f48e38e3bb2brow1_col2\" class=\"data row1 col2\" >0.501620</td>\n",
       "                        <td id=\"T_02cd9b64_b1fa_11ea_845a_f48e38e3bb2brow1_col3\" class=\"data row1 col3\" >0.449755</td>\n",
       "                        <td id=\"T_02cd9b64_b1fa_11ea_845a_f48e38e3bb2brow1_col4\" class=\"data row1 col4\" >-0.326984</td>\n",
       "            </tr>\n",
       "            <tr>\n",
       "                        <th id=\"T_02cd9b64_b1fa_11ea_845a_f48e38e3bb2blevel0_row2\" class=\"row_heading level0 row2\" >Vagas de Garagem</th>\n",
       "                        <td id=\"T_02cd9b64_b1fa_11ea_845a_f48e38e3bb2brow2_col0\" class=\"data row2 col0\" >0.481449</td>\n",
       "                        <td id=\"T_02cd9b64_b1fa_11ea_845a_f48e38e3bb2brow2_col1\" class=\"data row2 col1\" >0.501620</td>\n",
       "                        <td id=\"T_02cd9b64_b1fa_11ea_845a_f48e38e3bb2brow2_col2\" class=\"data row2 col2\" >1.000000</td>\n",
       "                        <td id=\"T_02cd9b64_b1fa_11ea_845a_f48e38e3bb2brow2_col3\" class=\"data row2 col3\" >0.267075</td>\n",
       "                        <td id=\"T_02cd9b64_b1fa_11ea_845a_f48e38e3bb2brow2_col4\" class=\"data row2 col4\" >0.233333</td>\n",
       "            </tr>\n",
       "            <tr>\n",
       "                        <th id=\"T_02cd9b64_b1fa_11ea_845a_f48e38e3bb2blevel0_row3\" class=\"row_heading level0 row3\" >Suítes</th>\n",
       "                        <td id=\"T_02cd9b64_b1fa_11ea_845a_f48e38e3bb2brow3_col0\" class=\"data row3 col0\" >0.333774</td>\n",
       "                        <td id=\"T_02cd9b64_b1fa_11ea_845a_f48e38e3bb2brow3_col1\" class=\"data row3 col1\" >0.449755</td>\n",
       "                        <td id=\"T_02cd9b64_b1fa_11ea_845a_f48e38e3bb2brow3_col2\" class=\"data row3 col2\" >0.267075</td>\n",
       "                        <td id=\"T_02cd9b64_b1fa_11ea_845a_f48e38e3bb2brow3_col3\" class=\"data row3 col3\" >1.000000</td>\n",
       "                        <td id=\"T_02cd9b64_b1fa_11ea_845a_f48e38e3bb2brow3_col4\" class=\"data row3 col4\" >-0.235702</td>\n",
       "            </tr>\n",
       "            <tr>\n",
       "                        <th id=\"T_02cd9b64_b1fa_11ea_845a_f48e38e3bb2blevel0_row4\" class=\"row_heading level0 row4\" >Ano de Construção</th>\n",
       "                        <td id=\"T_02cd9b64_b1fa_11ea_845a_f48e38e3bb2brow4_col0\" class=\"data row4 col0\" >-0.433333</td>\n",
       "                        <td id=\"T_02cd9b64_b1fa_11ea_845a_f48e38e3bb2brow4_col1\" class=\"data row4 col1\" >-0.326984</td>\n",
       "                        <td id=\"T_02cd9b64_b1fa_11ea_845a_f48e38e3bb2brow4_col2\" class=\"data row4 col2\" >0.233333</td>\n",
       "                        <td id=\"T_02cd9b64_b1fa_11ea_845a_f48e38e3bb2brow4_col3\" class=\"data row4 col3\" >-0.235702</td>\n",
       "                        <td id=\"T_02cd9b64_b1fa_11ea_845a_f48e38e3bb2brow4_col4\" class=\"data row4 col4\" >1.000000</td>\n",
       "            </tr>\n",
       "    </tbody></table>"
      ],
      "text/plain": [
       "<pandas.io.formats.style.Styler at 0x1ffb4d5c148>"
      ]
     },
     "execution_count": 21,
     "metadata": {},
     "output_type": "execute_result"
    }
   ],
   "source": [
    "corr = df.corr(method = 'spearman')\n",
    "corr.style.background_gradient(cmap='cividis')"
   ]
  },
  {
   "cell_type": "code",
   "execution_count": 62,
   "metadata": {},
   "outputs": [],
   "source": [
    "pp = 4"
   ]
  },
  {
   "cell_type": "code",
   "execution_count": 63,
   "metadata": {},
   "outputs": [
    {
     "data": {
      "text/plain": [
       "' R$ 190.000'"
      ]
     },
     "execution_count": 63,
     "metadata": {},
     "output_type": "execute_result"
    }
   ],
   "source": [
    "z[pp]"
   ]
  },
  {
   "cell_type": "code",
   "execution_count": 65,
   "metadata": {},
   "outputs": [
    {
     "data": {
      "text/plain": [
       "190000.0"
      ]
     },
     "execution_count": 65,
     "metadata": {},
     "output_type": "execute_result"
    }
   ],
   "source": [
    "float(z[pp].replace('R$', ''))*1000"
   ]
  },
  {
   "cell_type": "code",
   "execution_count": 67,
   "metadata": {},
   "outputs": [],
   "source": [
    "asdss = df['Valor Venda'].replace('R$', '')"
   ]
  },
  {
   "cell_type": "code",
   "execution_count": 68,
   "metadata": {},
   "outputs": [
    {
     "data": {
      "text/plain": [
       "0       R$ 430.000\n",
       "1       R$ 350.000\n",
       "2       R$ 300.000\n",
       "3       R$ 190.000\n",
       "4       R$ 190.000\n",
       "          ...     \n",
       "114     R$ 620.000\n",
       "115     R$ 620.000\n",
       "116     R$ 620.000\n",
       "117     R$ 620.000\n",
       "118     R$ 620.000\n",
       "Name: Valor Venda, Length: 119, dtype: object"
      ]
     },
     "execution_count": 68,
     "metadata": {},
     "output_type": "execute_result"
    }
   ],
   "source": [
    "asdss"
   ]
  },
  {
   "cell_type": "code",
   "execution_count": 32,
   "metadata": {},
   "outputs": [
    {
     "data": {
      "text/plain": [
       "Index(['Quartos', 'Banheiros', 'Vagas de Garagem', 'Área Total', 'Valor Venda',\n",
       "       'Bairro', 'Endereço', 'Referência', 'Suítes', 'Área Construída',\n",
       "       'Aceita Permuta', 'Área Privativa', 'Área Útil', 'Ano de Construção',\n",
       "       'Condomínio', 'IPTU'],\n",
       "      dtype='object')"
      ]
     },
     "execution_count": 32,
     "metadata": {},
     "output_type": "execute_result"
    }
   ],
   "source": [
    "df.columns"
   ]
  },
  {
   "cell_type": "code",
   "execution_count": 34,
   "metadata": {},
   "outputs": [],
   "source": [
    "df.drop(columns='Área Construída', inplace=True)"
   ]
  },
  {
   "cell_type": "code",
   "execution_count": 45,
   "metadata": {},
   "outputs": [],
   "source": [
    "df.to_csv('info.csv',index=False)"
   ]
  },
  {
   "cell_type": "code",
   "execution_count": 28,
   "metadata": {},
   "outputs": [],
   "source": [
    "ff = pd.read_csv('info.csv')"
   ]
  },
  {
   "cell_type": "code",
   "execution_count": 29,
   "metadata": {},
   "outputs": [
    {
     "name": "stdout",
     "output_type": "stream",
     "text": [
      "<class 'pandas.core.frame.DataFrame'>\n",
      "RangeIndex: 3963 entries, 0 to 3962\n",
      "Data columns (total 16 columns):\n",
      " #   Column             Non-Null Count  Dtype  \n",
      "---  ------             --------------  -----  \n",
      " 0   Quartos            3558 non-null   float64\n",
      " 1   Banheiros          3319 non-null   float64\n",
      " 2   Vagas de Garagem   2630 non-null   float64\n",
      " 3   Área Total         2973 non-null   object \n",
      " 4   Valor Venda        3959 non-null   object \n",
      " 5   Bairro             3582 non-null   object \n",
      " 6   Endereço           3843 non-null   object \n",
      " 7   Referência         3963 non-null   object \n",
      " 8   Suítes             1861 non-null   float64\n",
      " 9   Área Construída    47 non-null     object \n",
      " 10  Aceita Permuta     2 non-null      object \n",
      " 11  Área Privativa     2 non-null      object \n",
      " 12  Área Útil          18 non-null     object \n",
      " 13  Ano de Construção  7 non-null      float64\n",
      " 14  Condomínio         175 non-null    object \n",
      " 15  IPTU               2 non-null      object \n",
      "dtypes: float64(5), object(11)\n",
      "memory usage: 495.5+ KB\n"
     ]
    }
   ],
   "source": [
    "ff.info()"
   ]
  },
  {
   "cell_type": "code",
   "execution_count": null,
   "metadata": {},
   "outputs": [],
   "source": []
  },
  {
   "cell_type": "code",
   "execution_count": null,
   "metadata": {},
   "outputs": [],
   "source": []
  }
 ],
 "metadata": {
  "kernelspec": {
   "display_name": "Python 3",
   "language": "python",
   "name": "python3"
  },
  "language_info": {
   "codemirror_mode": {
    "name": "ipython",
    "version": 3
   },
   "file_extension": ".py",
   "mimetype": "text/x-python",
   "name": "python",
   "nbconvert_exporter": "python",
   "pygments_lexer": "ipython3",
   "version": "3.7.6"
  }
 },
 "nbformat": 4,
 "nbformat_minor": 4
}
